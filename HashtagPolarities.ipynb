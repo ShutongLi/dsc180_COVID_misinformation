{
 "cells": [
  {
   "cell_type": "code",
   "execution_count": 10,
   "metadata": {},
   "outputs": [],
   "source": [
    "import pandas as pd\n",
    "import numpy as np\n",
    "import json\n",
    "import os\n",
    "from src.features import generate_features"
   ]
  },
  {
   "cell_type": "code",
   "execution_count": 5,
   "metadata": {},
   "outputs": [],
   "source": [
    "with open('./config/viz_params.json') as f:\n",
    "    viz_params = json.load(f)\n",
    "\n",
    "# Cfg variables\n",
    "path = viz_params['path']\n",
    "top_k = viz_params['top_k']\n",
    "top_k_fig_path = viz_params['top_k_fig_path']\n",
    "user_hist_path = viz_params['user_hist_path']\n",
    "user_hist_zoom_path = viz_params['user_hist_zoom_path']\n",
    "good_path = viz_params['good_path']\n",
    "bad_path = viz_params['bad_path']\n",
    "good_tags = viz_params['good_tags']\n",
    "bad_tags = viz_params['bad_tags']\n",
    "maximum_posts = viz_params['maximum_posts']"
   ]
  },
  {
   "cell_type": "code",
   "execution_count": 8,
   "metadata": {},
   "outputs": [],
   "source": [
    "jsons = [os.path.join(path, name) for name in sorted(os.listdir(path)) if 'dataset' in name]"
   ]
  },
  {
   "cell_type": "code",
   "execution_count": 31,
   "metadata": {},
   "outputs": [],
   "source": [
    "# Count the number of occurences of every hashtag in the JSON\n",
    "def hashtag_counts(json, misinformation_hashtags):\n",
    "    df = pd.read_json(json, lines = True)\n",
    "    ht = df['entities'].apply(lambda e: [x['text'] for x in e['hashtags']])\n",
    "       \n",
    "    if not misinformation_hashtags is None:\n",
    "        ht = ht.apply(lambda x: x if set(x) & misinformation_hashtags else None).dropna()\n",
    "    return pd.Series(ht.sum()).value_counts(), len(ht)\n",
    "\n",
    "\n",
    "# Count the number of posts every user has made in the JSON\n",
    "def user_counts(json, misinformation_hashtags):\n",
    "    df = pd.read_json(json, lines=True)\n",
    "    us = df['user'].apply(lambda x: x['screen_name'])\n",
    "    return us.value_counts(), len(df)"
   ]
  },
  {
   "cell_type": "code",
   "execution_count": 32,
   "metadata": {},
   "outputs": [],
   "source": [
    "# Decide whether to count hashtags or users\n",
    "def count_features(jsons, misinformation_hashtags = None, top_k = None, mode = 'hashtag'):\n",
    "    # Decide whether to count hashtags or users\n",
    "    if mode == 'hashtag':\n",
    "        method = hashtag_counts\n",
    "    elif mode == 'user':\n",
    "        method = user_counts\n",
    "        \n",
    "    # Compile count of first JSON in list\n",
    "    total_series, tweet_count = method(jsons[0], misinformation_hashtags)\n",
    "    print(f'vc shape {total_series.shape}', end='\\r')\n",
    "    \n",
    "    # Append counts to every subsequent JSON\n",
    "    for json in jsons[1:]:\n",
    "        vc_series, vc_count = method(json, misinformation_hashtags)\n",
    "        total_series = total_series.add(vc_series, fill_value = 0)\n",
    "        tweet_count += vc_count\n",
    "        print(f'vc shape {total_series.shape}', end='\\r')\n",
    "        \n",
    "    # Return the top users/hashtags in all of the data\n",
    "    return total_series.sort_values().sort_values(ascending=False)/tweet_count"
   ]
  },
  {
   "cell_type": "code",
   "execution_count": 39,
   "metadata": {},
   "outputs": [
    {
     "name": "stdout",
     "output_type": "stream",
     "text": [
      "vc shape (801,)\r"
     ]
    }
   ],
   "source": [
    "marker_rate = count_features(jsons, set([\"WuhanVirus\", \"Hydroxychloroquine\"]))"
   ]
  },
  {
   "cell_type": "code",
   "execution_count": 40,
   "metadata": {},
   "outputs": [
    {
     "name": "stdout",
     "output_type": "stream",
     "text": [
      "vc shape (118286,)\r"
     ]
    }
   ],
   "source": [
    "baseline_rate = count_features(jsons)"
   ]
  },
  {
   "cell_type": "code",
   "execution_count": 45,
   "metadata": {},
   "outputs": [],
   "source": [
    "top_200 = baseline_rate.iloc[:200]"
   ]
  },
  {
   "cell_type": "code",
   "execution_count": 49,
   "metadata": {},
   "outputs": [
    {
     "data": {
      "text/plain": [
       "WuhanVirus            0.528837\n",
       "Hydroxychloroquine    0.486804\n",
       "COVID19               0.186706\n",
       "coronavirus           0.091887\n",
       "ChinaVirus            0.051808\n",
       "                        ...   \n",
       "DragonVirus19         0.000978\n",
       "DrZev                 0.000978\n",
       "DownWithTheCCP        0.000978\n",
       "DE                    0.000978\n",
       "RFI_En                0.000978\n",
       "Length: 801, dtype: float64"
      ]
     },
     "execution_count": 49,
     "metadata": {},
     "output_type": "execute_result"
    }
   ],
   "source": [
    "marker_rate"
   ]
  },
  {
   "cell_type": "code",
   "execution_count": 59,
   "metadata": {},
   "outputs": [],
   "source": [
    "test = pd.DataFrame(top_200)\n",
    "test.columns = [\"baseline\"]\n",
    "full_df = test.join(pd.DataFrame(marker_rate)).fillna(0)"
   ]
  },
  {
   "cell_type": "code",
   "execution_count": 61,
   "metadata": {},
   "outputs": [],
   "source": [
    "polarity = full_df[0] - full_df[\"baseline\"]"
   ]
  },
  {
   "cell_type": "code",
   "execution_count": 62,
   "metadata": {},
   "outputs": [
    {
     "data": {
      "text/plain": [
       "COVID19              0.094138\n",
       "coronavirus          0.053633\n",
       "Coronavirus          0.013383\n",
       "Covid19              0.006578\n",
       "covid19             -0.004386\n",
       "                       ...   \n",
       "HapusCOVID19        -0.000141\n",
       "Paris               -0.000141\n",
       "QAnon                0.000838\n",
       "lockdownextension   -0.000140\n",
       "UPDATE               0.000838\n",
       "Length: 200, dtype: float64"
      ]
     },
     "execution_count": 62,
     "metadata": {},
     "output_type": "execute_result"
    }
   ],
   "source": [
    "polarity"
   ]
  },
  {
   "cell_type": "code",
   "execution_count": null,
   "metadata": {},
   "outputs": [],
   "source": []
  }
 ],
 "metadata": {
  "kernelspec": {
   "display_name": "Python 3",
   "language": "python",
   "name": "python3"
  },
  "language_info": {
   "codemirror_mode": {
    "name": "ipython",
    "version": 3
   },
   "file_extension": ".py",
   "mimetype": "text/x-python",
   "name": "python",
   "nbconvert_exporter": "python",
   "pygments_lexer": "ipython3",
   "version": "3.7.6"
  }
 },
 "nbformat": 4,
 "nbformat_minor": 4
}
