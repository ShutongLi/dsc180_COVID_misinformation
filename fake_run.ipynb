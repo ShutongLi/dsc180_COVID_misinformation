{
 "cells": [
  {
   "cell_type": "code",
   "execution_count": 1,
   "metadata": {},
   "outputs": [],
   "source": [
    "import sys\n",
    "import json\n",
    "from src.data import generate_dataset"
   ]
  },
  {
   "cell_type": "code",
   "execution_count": 2,
   "metadata": {},
   "outputs": [],
   "source": [
    "with open('./config/data_params.json') as f:\n",
    "    data_params = json.load(f)\n",
    "with open('./config/sample_params.json') as f:\n",
    "    sample_params = json.load(f)\n",
    "\n",
    "# Cfg variables\n",
    "raw_data_path = data_params['raw_data_path']\n",
    "processed_data_path = data_params['dehydrated_data_path']\n",
    "twarc_path = data_params['twarc_path']\n",
    "rehydrated_df_path = data_params['rehydrated_df_path']\n",
    "id_column = data_params['id_column']\n",
    "day = data_params['day']\n",
    "\n",
    "seed = sample_params['seed']\n",
    "sample_size = sample_params['sample_size']\n",
    "\n",
    "seed = sample_params['seed']\n",
    "sample_size = sample_params['sample_size']\n",
    "\n",
    "\n",
    "\n",
    "# # Update dataset from some date (set in data_params) to today\n",
    "# generate_dataset.download_latest_datasets(raw_data_path, day)\n",
    "# # sample raw data of tweet ids, rehydrate them (enrich them with tweet contents)\n",
    "# print(generate_dataset.rehydrate_tweets(raw_data_path, processed_data_path, seed, sample_size, id_column, twarc_path, day))"
   ]
  },
  {
   "cell_type": "code",
   "execution_count": 4,
   "metadata": {},
   "outputs": [],
   "source": [
    "import pandas as pd"
   ]
  },
  {
   "cell_type": "code",
   "execution_count": 7,
   "metadata": {},
   "outputs": [],
   "source": [
    "last_day = '2020-03-22'\n",
    "to_day = '2020-07-31'"
   ]
  },
  {
   "cell_type": "code",
   "execution_count": 8,
   "metadata": {},
   "outputs": [
    {
     "data": {
      "text/plain": [
       "DatetimeIndex(['2020-03-22', '2020-03-23', '2020-03-24', '2020-03-25',\n",
       "               '2020-03-26', '2020-03-27', '2020-03-28', '2020-03-29',\n",
       "               '2020-03-30', '2020-03-31',\n",
       "               ...\n",
       "               '2020-07-22', '2020-07-23', '2020-07-24', '2020-07-25',\n",
       "               '2020-07-26', '2020-07-27', '2020-07-28', '2020-07-29',\n",
       "               '2020-07-30', '2020-07-31'],\n",
       "              dtype='datetime64[ns]', length=132, freq='D')"
      ]
     },
     "execution_count": 8,
     "metadata": {},
     "output_type": "execute_result"
    }
   ],
   "source": [
    "pd.date_range(last_day, to_day, freq='d')"
   ]
  },
  {
   "cell_type": "code",
   "execution_count": null,
   "metadata": {},
   "outputs": [],
   "source": []
  }
 ],
 "metadata": {
  "kernelspec": {
   "display_name": "Python 3",
   "language": "python",
   "name": "python3"
  },
  "language_info": {
   "codemirror_mode": {
    "name": "ipython",
    "version": 3
   },
   "file_extension": ".py",
   "mimetype": "text/x-python",
   "name": "python",
   "nbconvert_exporter": "python",
   "pygments_lexer": "ipython3",
   "version": "3.7.6"
  }
 },
 "nbformat": 4,
 "nbformat_minor": 4
}
