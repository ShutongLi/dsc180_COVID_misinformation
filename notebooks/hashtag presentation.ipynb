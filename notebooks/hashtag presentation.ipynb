{
 "cells": [
  {
   "cell_type": "code",
   "execution_count": 10,
   "metadata": {},
   "outputs": [],
   "source": [
    "import pandas as pd\n",
    "import matplotlib\n",
    "import numpy\n",
    "import os"
   ]
  },
  {
   "cell_type": "code",
   "execution_count": 3,
   "metadata": {},
   "outputs": [],
   "source": [
    "# grab hashtags"
   ]
  },
  {
   "cell_type": "code",
   "execution_count": 12,
   "metadata": {},
   "outputs": [],
   "source": [
    "path = '../data/temp/rehydration'\n",
    "hashtag_path = '../data/temp/hashtags'"
   ]
  },
  {
   "cell_type": "code",
   "execution_count": 13,
   "metadata": {},
   "outputs": [],
   "source": [
    "if not os.path.exists(hashtag_path):\n",
    "        os.makedirs(hashtag_path)"
   ]
  },
  {
   "cell_type": "code",
   "execution_count": 23,
   "metadata": {},
   "outputs": [],
   "source": [
    "jsons = [os.path.join(path, name) for name in sorted(os.listdir(path)) if 'dataset' in name]"
   ]
  },
  {
   "cell_type": "code",
   "execution_count": 25,
   "metadata": {},
   "outputs": [
    {
     "data": {
      "text/plain": [
       "'../data/temp/rehydration/2020-03-22-dataset.jsonl'"
      ]
     },
     "execution_count": 25,
     "metadata": {},
     "output_type": "execute_result"
    }
   ],
   "source": [
    "jsons[0]"
   ]
  },
  {
   "cell_type": "code",
   "execution_count": 26,
   "metadata": {},
   "outputs": [
    {
     "data": {
      "text/html": [
       "<div>\n",
       "<style scoped>\n",
       "    .dataframe tbody tr th:only-of-type {\n",
       "        vertical-align: middle;\n",
       "    }\n",
       "\n",
       "    .dataframe tbody tr th {\n",
       "        vertical-align: top;\n",
       "    }\n",
       "\n",
       "    .dataframe thead th {\n",
       "        text-align: right;\n",
       "    }\n",
       "</style>\n",
       "<table border=\"1\" class=\"dataframe\">\n",
       "  <thead>\n",
       "    <tr style=\"text-align: right;\">\n",
       "      <th></th>\n",
       "      <th>created_at</th>\n",
       "      <th>id</th>\n",
       "      <th>id_str</th>\n",
       "      <th>full_text</th>\n",
       "      <th>truncated</th>\n",
       "      <th>display_text_range</th>\n",
       "      <th>entities</th>\n",
       "      <th>extended_entities</th>\n",
       "      <th>source</th>\n",
       "      <th>in_reply_to_status_id</th>\n",
       "      <th>...</th>\n",
       "      <th>favorited</th>\n",
       "      <th>retweeted</th>\n",
       "      <th>possibly_sensitive</th>\n",
       "      <th>lang</th>\n",
       "      <th>retweeted_status</th>\n",
       "      <th>quoted_status_id</th>\n",
       "      <th>quoted_status_id_str</th>\n",
       "      <th>quoted_status_permalink</th>\n",
       "      <th>quoted_status</th>\n",
       "      <th>withheld_in_countries</th>\n",
       "    </tr>\n",
       "  </thead>\n",
       "  <tbody>\n",
       "    <tr>\n",
       "      <th>0</th>\n",
       "      <td>2020-03-22 04:01:29+00:00</td>\n",
       "      <td>1241575703012716544</td>\n",
       "      <td>1241575703012716544</td>\n",
       "      <td>327 #Covid19 positive cases in India, \\n\\nMaha...</td>\n",
       "      <td>False</td>\n",
       "      <td>[0, 160]</td>\n",
       "      <td>{'hashtags': [{'text': 'Covid19', 'indices': [...</td>\n",
       "      <td>{'media': [{'id': 1241575692866711552, 'id_str...</td>\n",
       "      <td>&lt;a href=\"http://twitter.com/download/android\" ...</td>\n",
       "      <td>NaN</td>\n",
       "      <td>...</td>\n",
       "      <td>False</td>\n",
       "      <td>False</td>\n",
       "      <td>0.0</td>\n",
       "      <td>in</td>\n",
       "      <td>NaN</td>\n",
       "      <td>NaN</td>\n",
       "      <td>NaN</td>\n",
       "      <td>NaN</td>\n",
       "      <td>NaN</td>\n",
       "      <td>NaN</td>\n",
       "    </tr>\n",
       "    <tr>\n",
       "      <th>1</th>\n",
       "      <td>2020-03-22 04:01:36+00:00</td>\n",
       "      <td>1241575732926730241</td>\n",
       "      <td>1241575732926730240</td>\n",
       "      <td>RT @SenMikeLee: OVER MY DEAD BODY https://t.co...</td>\n",
       "      <td>False</td>\n",
       "      <td>[0, 57]</td>\n",
       "      <td>{'hashtags': [], 'symbols': [], 'user_mentions...</td>\n",
       "      <td>NaN</td>\n",
       "      <td>&lt;a href=\"http://twitter.com/download/android\" ...</td>\n",
       "      <td>NaN</td>\n",
       "      <td>...</td>\n",
       "      <td>False</td>\n",
       "      <td>False</td>\n",
       "      <td>0.0</td>\n",
       "      <td>en</td>\n",
       "      <td>{'created_at': 'Sat Mar 21 23:30:32 +0000 2020...</td>\n",
       "      <td>NaN</td>\n",
       "      <td>NaN</td>\n",
       "      <td>NaN</td>\n",
       "      <td>NaN</td>\n",
       "      <td>NaN</td>\n",
       "    </tr>\n",
       "    <tr>\n",
       "      <th>2</th>\n",
       "      <td>2020-03-22 04:01:43+00:00</td>\n",
       "      <td>1241575762588811264</td>\n",
       "      <td>1241575762588811264</td>\n",
       "      <td>RT @LuisOlavarrieta: #Ahora caso @DarvinsonRoj...</td>\n",
       "      <td>False</td>\n",
       "      <td>[0, 67]</td>\n",
       "      <td>{'hashtags': [{'text': 'Ahora', 'indices': [21...</td>\n",
       "      <td>NaN</td>\n",
       "      <td>&lt;a href=\"http://twitter.com/download/android\" ...</td>\n",
       "      <td>NaN</td>\n",
       "      <td>...</td>\n",
       "      <td>False</td>\n",
       "      <td>False</td>\n",
       "      <td>NaN</td>\n",
       "      <td>es</td>\n",
       "      <td>{'created_at': 'Sun Mar 22 02:45:32 +0000 2020...</td>\n",
       "      <td>1.241556e+18</td>\n",
       "      <td>1.241556e+18</td>\n",
       "      <td>{'url': 'https://t.co/LRH8TlmgaM', 'expanded':...</td>\n",
       "      <td>NaN</td>\n",
       "      <td>NaN</td>\n",
       "    </tr>\n",
       "    <tr>\n",
       "      <th>3</th>\n",
       "      <td>2020-03-22 04:01:50+00:00</td>\n",
       "      <td>1241575792011661312</td>\n",
       "      <td>1241575792011661312</td>\n",
       "      <td>RT @aliciagarza: This @DJ_DNICE party is every...</td>\n",
       "      <td>False</td>\n",
       "      <td>[0, 140]</td>\n",
       "      <td>{'hashtags': [], 'symbols': [], 'user_mentions...</td>\n",
       "      <td>NaN</td>\n",
       "      <td>&lt;a href=\"http://twitter.com/download/iphone\" r...</td>\n",
       "      <td>NaN</td>\n",
       "      <td>...</td>\n",
       "      <td>False</td>\n",
       "      <td>False</td>\n",
       "      <td>NaN</td>\n",
       "      <td>en</td>\n",
       "      <td>{'created_at': 'Sun Mar 22 03:53:11 +0000 2020...</td>\n",
       "      <td>NaN</td>\n",
       "      <td>NaN</td>\n",
       "      <td>NaN</td>\n",
       "      <td>NaN</td>\n",
       "      <td>NaN</td>\n",
       "    </tr>\n",
       "    <tr>\n",
       "      <th>4</th>\n",
       "      <td>2020-03-22 04:02:05+00:00</td>\n",
       "      <td>1241575854251085831</td>\n",
       "      <td>1241575854251085824</td>\n",
       "      <td>RT @CNN: A customer left a $2,500 tip to suppo...</td>\n",
       "      <td>False</td>\n",
       "      <td>[0, 140]</td>\n",
       "      <td>{'hashtags': [], 'symbols': [], 'user_mentions...</td>\n",
       "      <td>NaN</td>\n",
       "      <td>&lt;a href=\"https://mobile.twitter.com\" rel=\"nofo...</td>\n",
       "      <td>NaN</td>\n",
       "      <td>...</td>\n",
       "      <td>False</td>\n",
       "      <td>False</td>\n",
       "      <td>0.0</td>\n",
       "      <td>en</td>\n",
       "      <td>{'created_at': 'Sun Mar 22 04:01:07 +0000 2020...</td>\n",
       "      <td>NaN</td>\n",
       "      <td>NaN</td>\n",
       "      <td>NaN</td>\n",
       "      <td>NaN</td>\n",
       "      <td>NaN</td>\n",
       "    </tr>\n",
       "  </tbody>\n",
       "</table>\n",
       "<p>5 rows × 32 columns</p>\n",
       "</div>"
      ],
      "text/plain": [
       "                 created_at                   id               id_str  \\\n",
       "0 2020-03-22 04:01:29+00:00  1241575703012716544  1241575703012716544   \n",
       "1 2020-03-22 04:01:36+00:00  1241575732926730241  1241575732926730240   \n",
       "2 2020-03-22 04:01:43+00:00  1241575762588811264  1241575762588811264   \n",
       "3 2020-03-22 04:01:50+00:00  1241575792011661312  1241575792011661312   \n",
       "4 2020-03-22 04:02:05+00:00  1241575854251085831  1241575854251085824   \n",
       "\n",
       "                                           full_text  truncated  \\\n",
       "0  327 #Covid19 positive cases in India, \\n\\nMaha...      False   \n",
       "1  RT @SenMikeLee: OVER MY DEAD BODY https://t.co...      False   \n",
       "2  RT @LuisOlavarrieta: #Ahora caso @DarvinsonRoj...      False   \n",
       "3  RT @aliciagarza: This @DJ_DNICE party is every...      False   \n",
       "4  RT @CNN: A customer left a $2,500 tip to suppo...      False   \n",
       "\n",
       "  display_text_range                                           entities  \\\n",
       "0           [0, 160]  {'hashtags': [{'text': 'Covid19', 'indices': [...   \n",
       "1            [0, 57]  {'hashtags': [], 'symbols': [], 'user_mentions...   \n",
       "2            [0, 67]  {'hashtags': [{'text': 'Ahora', 'indices': [21...   \n",
       "3           [0, 140]  {'hashtags': [], 'symbols': [], 'user_mentions...   \n",
       "4           [0, 140]  {'hashtags': [], 'symbols': [], 'user_mentions...   \n",
       "\n",
       "                                   extended_entities  \\\n",
       "0  {'media': [{'id': 1241575692866711552, 'id_str...   \n",
       "1                                                NaN   \n",
       "2                                                NaN   \n",
       "3                                                NaN   \n",
       "4                                                NaN   \n",
       "\n",
       "                                              source  in_reply_to_status_id  \\\n",
       "0  <a href=\"http://twitter.com/download/android\" ...                    NaN   \n",
       "1  <a href=\"http://twitter.com/download/android\" ...                    NaN   \n",
       "2  <a href=\"http://twitter.com/download/android\" ...                    NaN   \n",
       "3  <a href=\"http://twitter.com/download/iphone\" r...                    NaN   \n",
       "4  <a href=\"https://mobile.twitter.com\" rel=\"nofo...                    NaN   \n",
       "\n",
       "   ...  favorited  retweeted  possibly_sensitive lang  \\\n",
       "0  ...      False      False                 0.0   in   \n",
       "1  ...      False      False                 0.0   en   \n",
       "2  ...      False      False                 NaN   es   \n",
       "3  ...      False      False                 NaN   en   \n",
       "4  ...      False      False                 0.0   en   \n",
       "\n",
       "                                    retweeted_status quoted_status_id  \\\n",
       "0                                                NaN              NaN   \n",
       "1  {'created_at': 'Sat Mar 21 23:30:32 +0000 2020...              NaN   \n",
       "2  {'created_at': 'Sun Mar 22 02:45:32 +0000 2020...     1.241556e+18   \n",
       "3  {'created_at': 'Sun Mar 22 03:53:11 +0000 2020...              NaN   \n",
       "4  {'created_at': 'Sun Mar 22 04:01:07 +0000 2020...              NaN   \n",
       "\n",
       "  quoted_status_id_str                            quoted_status_permalink  \\\n",
       "0                  NaN                                                NaN   \n",
       "1                  NaN                                                NaN   \n",
       "2         1.241556e+18  {'url': 'https://t.co/LRH8TlmgaM', 'expanded':...   \n",
       "3                  NaN                                                NaN   \n",
       "4                  NaN                                                NaN   \n",
       "\n",
       "   quoted_status  withheld_in_countries  \n",
       "0            NaN                    NaN  \n",
       "1            NaN                    NaN  \n",
       "2            NaN                    NaN  \n",
       "3            NaN                    NaN  \n",
       "4            NaN                    NaN  \n",
       "\n",
       "[5 rows x 32 columns]"
      ]
     },
     "execution_count": 26,
     "metadata": {},
     "output_type": "execute_result"
    }
   ],
   "source": [
    "df = pd.read_json(jsons[0], lines=True)\n",
    "df.head()"
   ]
  },
  {
   "cell_type": "code",
   "execution_count": 30,
   "metadata": {},
   "outputs": [
    {
     "data": {
      "text/plain": [
       "[{'text': 'Covid19', 'indices': [4, 12]}]"
      ]
     },
     "execution_count": 30,
     "metadata": {},
     "output_type": "execute_result"
    }
   ],
   "source": [
    "df['entities'][0]['hashtags']"
   ]
  },
  {
   "cell_type": "code",
   "execution_count": 33,
   "metadata": {},
   "outputs": [],
   "source": [
    "def hashtags(df):\n",
    "    return df['entities'].apply(lambda e: [x['text'] for x in e['hashtags']])"
   ]
  },
  {
   "cell_type": "code",
   "execution_count": 37,
   "metadata": {},
   "outputs": [
    {
     "data": {
      "text/plain": [
       "COVID19                       576\n",
       "coronavirus                   545\n",
       "Coronavirus                   172\n",
       "CoronavirusPandemic           125\n",
       "COVIDー19                      104\n",
       "                             ... \n",
       "Toti                            1\n",
       "LaRochelle                      1\n",
       "Cupit19                         1\n",
       "Xalapa                          1\n",
       "65yasustusokagacikmayasagi      1\n",
       "Length: 1749, dtype: int64"
      ]
     },
     "execution_count": 37,
     "metadata": {},
     "output_type": "execute_result"
    }
   ],
   "source": [
    "ht_vc = pd.Series(hashtags(df).sum()).value_counts()\n",
    "ht_vc"
   ]
  },
  {
   "cell_type": "code",
   "execution_count": null,
   "metadata": {},
   "outputs": [],
   "source": []
  }
 ],
 "metadata": {
  "kernelspec": {
   "display_name": "Python 3",
   "language": "python",
   "name": "python3"
  },
  "language_info": {
   "codemirror_mode": {
    "name": "ipython",
    "version": 3
   },
   "file_extension": ".py",
   "mimetype": "text/x-python",
   "name": "python",
   "nbconvert_exporter": "python",
   "pygments_lexer": "ipython3",
   "version": "3.7.6"
  }
 },
 "nbformat": 4,
 "nbformat_minor": 4
}
