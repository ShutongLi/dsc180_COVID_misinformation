{
 "cells": [
  {
   "cell_type": "code",
   "execution_count": 31,
   "metadata": {
    "scrolled": true
   },
   "outputs": [],
   "source": [
    "# !pip install twarc"
   ]
  },
  {
   "cell_type": "code",
   "execution_count": 148,
   "metadata": {},
   "outputs": [],
   "source": [
    "import pandas as pd\n",
    "import json\n",
    "import numpy as np\n",
    "from ast import literal_eval"
   ]
  },
  {
   "cell_type": "code",
   "execution_count": 128,
   "metadata": {},
   "outputs": [],
   "source": [
    "tweet_fp = '../data/raw/2020-10-02_clean-dataset.tsv'\n",
    "to_fp = '../data/temp/sample_id.txt'\n",
    "seed = 400\n",
    "sample_size = 10000\n",
    "rehydrated_fp = '../data/temp/tweets_hydrated.jsonl'\n",
    "rehydrated_df_fp = '../data/temp/tweets_processing.csv'"
   ]
  },
  {
   "cell_type": "code",
   "execution_count": 67,
   "metadata": {},
   "outputs": [
    {
     "name": "stdout",
     "output_type": "stream",
     "text": [
      "(917217, 5)\n"
     ]
    },
    {
     "data": {
      "text/html": [
       "<div>\n",
       "<style scoped>\n",
       "    .dataframe tbody tr th:only-of-type {\n",
       "        vertical-align: middle;\n",
       "    }\n",
       "\n",
       "    .dataframe tbody tr th {\n",
       "        vertical-align: top;\n",
       "    }\n",
       "\n",
       "    .dataframe thead th {\n",
       "        text-align: right;\n",
       "    }\n",
       "</style>\n",
       "<table border=\"1\" class=\"dataframe\">\n",
       "  <thead>\n",
       "    <tr style=\"text-align: right;\">\n",
       "      <th></th>\n",
       "      <th>tweet_id</th>\n",
       "      <th>date</th>\n",
       "      <th>time</th>\n",
       "      <th>lang</th>\n",
       "      <th>country_code</th>\n",
       "    </tr>\n",
       "  </thead>\n",
       "  <tbody>\n",
       "    <tr>\n",
       "      <th>0</th>\n",
       "      <td>1311878600208134149</td>\n",
       "      <td>2020-10-02</td>\n",
       "      <td>04:00:06</td>\n",
       "      <td>en</td>\n",
       "      <td>NaN</td>\n",
       "    </tr>\n",
       "    <tr>\n",
       "      <th>1</th>\n",
       "      <td>1311878600518438912</td>\n",
       "      <td>2020-10-02</td>\n",
       "      <td>04:00:06</td>\n",
       "      <td>es</td>\n",
       "      <td>NaN</td>\n",
       "    </tr>\n",
       "    <tr>\n",
       "      <th>2</th>\n",
       "      <td>1311878600652730372</td>\n",
       "      <td>2020-10-02</td>\n",
       "      <td>04:00:06</td>\n",
       "      <td>und</td>\n",
       "      <td>DE</td>\n",
       "    </tr>\n",
       "    <tr>\n",
       "      <th>3</th>\n",
       "      <td>1311878600682070023</td>\n",
       "      <td>2020-10-02</td>\n",
       "      <td>04:00:06</td>\n",
       "      <td>or</td>\n",
       "      <td>NaN</td>\n",
       "    </tr>\n",
       "    <tr>\n",
       "      <th>4</th>\n",
       "      <td>1311878601046921217</td>\n",
       "      <td>2020-10-02</td>\n",
       "      <td>04:00:06</td>\n",
       "      <td>en</td>\n",
       "      <td>NaN</td>\n",
       "    </tr>\n",
       "  </tbody>\n",
       "</table>\n",
       "</div>"
      ],
      "text/plain": [
       "              tweet_id        date      time lang country_code\n",
       "0  1311878600208134149  2020-10-02  04:00:06   en          NaN\n",
       "1  1311878600518438912  2020-10-02  04:00:06   es          NaN\n",
       "2  1311878600652730372  2020-10-02  04:00:06  und           DE\n",
       "3  1311878600682070023  2020-10-02  04:00:06   or          NaN\n",
       "4  1311878601046921217  2020-10-02  04:00:06   en          NaN"
      ]
     },
     "execution_count": 67,
     "metadata": {},
     "output_type": "execute_result"
    }
   ],
   "source": [
    "df = pd.read_table(tweet_fp)\n",
    "print(df.shape)\n",
    "df.head()"
   ]
  },
  {
   "cell_type": "code",
   "execution_count": 68,
   "metadata": {},
   "outputs": [],
   "source": [
    "id_sample = df['tweet_id'].sample(n=sample_size, replace = False, random_state = seed)\n",
    "id_sample.to_csv(to_fp, index=False, header=False)"
   ]
  },
  {
   "cell_type": "markdown",
   "metadata": {},
   "source": [
    "Extract from jsonL and parses hashtag into dataframe"
   ]
  },
  {
   "cell_type": "code",
   "execution_count": 135,
   "metadata": {},
   "outputs": [],
   "source": [
    "with open(rehydrated_fp, encoding = 'utf-16') as rh_fh:\n",
    "    json_content = rh_fh.read()\n",
    "rows = []\n",
    "for line in json_content.splitlines():\n",
    "    rows.append(json.loads(line))\n",
    "tweets = pd.DataFrame(rows)\n",
    "tweets['hashtags'] = tweets['entities'].apply(lambda x: [tag['text'] for tag in x['hashtags']])\n",
    "tweets.to_csv(rehydrated_df_fp, index = False)"
   ]
  },
  {
   "cell_type": "code",
   "execution_count": 186,
   "metadata": {},
   "outputs": [],
   "source": [
    "tweets = pd.read_csv(rehydrated_df_fp)\n",
    "tweets['hashtags'] = tweets['hashtags'].apply(literal_eval)"
   ]
  },
  {
   "cell_type": "code",
   "execution_count": 187,
   "metadata": {},
   "outputs": [
    {
     "data": {
      "text/html": [
       "<div>\n",
       "<style scoped>\n",
       "    .dataframe tbody tr th:only-of-type {\n",
       "        vertical-align: middle;\n",
       "    }\n",
       "\n",
       "    .dataframe tbody tr th {\n",
       "        vertical-align: top;\n",
       "    }\n",
       "\n",
       "    .dataframe thead th {\n",
       "        text-align: right;\n",
       "    }\n",
       "</style>\n",
       "<table border=\"1\" class=\"dataframe\">\n",
       "  <thead>\n",
       "    <tr style=\"text-align: right;\">\n",
       "      <th></th>\n",
       "      <th>created_at</th>\n",
       "      <th>id</th>\n",
       "      <th>id_str</th>\n",
       "      <th>full_text</th>\n",
       "      <th>truncated</th>\n",
       "      <th>display_text_range</th>\n",
       "      <th>entities</th>\n",
       "      <th>source</th>\n",
       "      <th>in_reply_to_status_id</th>\n",
       "      <th>in_reply_to_status_id_str</th>\n",
       "      <th>...</th>\n",
       "      <th>quoted_status_permalink</th>\n",
       "      <th>quoted_status</th>\n",
       "      <th>retweet_count</th>\n",
       "      <th>favorite_count</th>\n",
       "      <th>favorited</th>\n",
       "      <th>retweeted</th>\n",
       "      <th>possibly_sensitive</th>\n",
       "      <th>lang</th>\n",
       "      <th>extended_entities</th>\n",
       "      <th>hashtags</th>\n",
       "    </tr>\n",
       "  </thead>\n",
       "  <tbody>\n",
       "    <tr>\n",
       "      <th>0</th>\n",
       "      <td>Fri Oct 02 04:25:52 +0000 2020</td>\n",
       "      <td>1311885083226169344</td>\n",
       "      <td>1311885083226169344</td>\n",
       "      <td>#TheTrumpDepression #BidenIsWinning\\n#JoeBiden...</td>\n",
       "      <td>False</td>\n",
       "      <td>[0, 278]</td>\n",
       "      <td>{'hashtags': [{'text': 'TheTrumpDepression', '...</td>\n",
       "      <td>&lt;a href=\"http://twitter.com/download/android\" ...</td>\n",
       "      <td>NaN</td>\n",
       "      <td>NaN</td>\n",
       "      <td>...</td>\n",
       "      <td>{'url': 'https://t.co/K3uEqIKDvf', 'expanded':...</td>\n",
       "      <td>{'created_at': 'Fri Oct 02 01:12:32 +0000 2020...</td>\n",
       "      <td>0</td>\n",
       "      <td>0</td>\n",
       "      <td>False</td>\n",
       "      <td>False</td>\n",
       "      <td>False</td>\n",
       "      <td>und</td>\n",
       "      <td>NaN</td>\n",
       "      <td>[TheTrumpDepression, BidenIsWinning, JoeBiden,...</td>\n",
       "    </tr>\n",
       "    <tr>\n",
       "      <th>1</th>\n",
       "      <td>Fri Oct 02 04:44:14 +0000 2020</td>\n",
       "      <td>1311889706661994496</td>\n",
       "      <td>1311889706661994496</td>\n",
       "      <td>@Roscommon_Cat What's the bet we won't get his...</td>\n",
       "      <td>False</td>\n",
       "      <td>[15, 294]</td>\n",
       "      <td>{'hashtags': [], 'symbols': [], 'user_mentions...</td>\n",
       "      <td>&lt;a href=\"https://mobile.twitter.com\" rel=\"nofo...</td>\n",
       "      <td>1.311881e+18</td>\n",
       "      <td>1.311881e+18</td>\n",
       "      <td>...</td>\n",
       "      <td>NaN</td>\n",
       "      <td>NaN</td>\n",
       "      <td>0</td>\n",
       "      <td>2</td>\n",
       "      <td>False</td>\n",
       "      <td>False</td>\n",
       "      <td>NaN</td>\n",
       "      <td>en</td>\n",
       "      <td>NaN</td>\n",
       "      <td>[]</td>\n",
       "    </tr>\n",
       "    <tr>\n",
       "      <th>2</th>\n",
       "      <td>Fri Oct 02 04:59:03 +0000 2020</td>\n",
       "      <td>1311893436547715072</td>\n",
       "      <td>1311893436547715072</td>\n",
       "      <td>HAAHAJSKDLEKDLELDL https://t.co/l9OZSTbrrF</td>\n",
       "      <td>False</td>\n",
       "      <td>[0, 18]</td>\n",
       "      <td>{'hashtags': [], 'symbols': [], 'user_mentions...</td>\n",
       "      <td>&lt;a href=\"http://twitter.com/download/iphone\" r...</td>\n",
       "      <td>NaN</td>\n",
       "      <td>NaN</td>\n",
       "      <td>...</td>\n",
       "      <td>{'url': 'https://t.co/l9OZSTbrrF', 'expanded':...</td>\n",
       "      <td>{'created_at': 'Fri Oct 02 04:56:04 +0000 2020...</td>\n",
       "      <td>0</td>\n",
       "      <td>0</td>\n",
       "      <td>False</td>\n",
       "      <td>False</td>\n",
       "      <td>False</td>\n",
       "      <td>fi</td>\n",
       "      <td>NaN</td>\n",
       "      <td>[]</td>\n",
       "    </tr>\n",
       "    <tr>\n",
       "      <th>3</th>\n",
       "      <td>Fri Oct 02 05:35:50 +0000 2020</td>\n",
       "      <td>1311902690381881344</td>\n",
       "      <td>1311902690381881344</td>\n",
       "      <td>#Trump just tested positive for #COVID19\\n\\nht...</td>\n",
       "      <td>False</td>\n",
       "      <td>[0, 65]</td>\n",
       "      <td>{'hashtags': [{'text': 'Trump', 'indices': [0,...</td>\n",
       "      <td>&lt;a href=\"http://twitter.com/download/android\" ...</td>\n",
       "      <td>NaN</td>\n",
       "      <td>NaN</td>\n",
       "      <td>...</td>\n",
       "      <td>NaN</td>\n",
       "      <td>NaN</td>\n",
       "      <td>0</td>\n",
       "      <td>0</td>\n",
       "      <td>False</td>\n",
       "      <td>False</td>\n",
       "      <td>False</td>\n",
       "      <td>en</td>\n",
       "      <td>NaN</td>\n",
       "      <td>[Trump, COVID19]</td>\n",
       "    </tr>\n",
       "    <tr>\n",
       "      <th>4</th>\n",
       "      <td>Fri Oct 02 05:45:16 +0000 2020</td>\n",
       "      <td>1311905064659771393</td>\n",
       "      <td>1311905064659771393</td>\n",
       "      <td>woj in shambles after this one https://t.co/GV...</td>\n",
       "      <td>False</td>\n",
       "      <td>[0, 30]</td>\n",
       "      <td>{'hashtags': [], 'symbols': [], 'user_mentions...</td>\n",
       "      <td>&lt;a href=\"http://twitter.com/download/iphone\" r...</td>\n",
       "      <td>NaN</td>\n",
       "      <td>NaN</td>\n",
       "      <td>...</td>\n",
       "      <td>{'url': 'https://t.co/GVmt9337To', 'expanded':...</td>\n",
       "      <td>{'created_at': 'Fri Oct 02 04:54:31 +0000 2020...</td>\n",
       "      <td>0</td>\n",
       "      <td>1</td>\n",
       "      <td>False</td>\n",
       "      <td>False</td>\n",
       "      <td>False</td>\n",
       "      <td>en</td>\n",
       "      <td>NaN</td>\n",
       "      <td>[]</td>\n",
       "    </tr>\n",
       "  </tbody>\n",
       "</table>\n",
       "<p>5 rows × 31 columns</p>\n",
       "</div>"
      ],
      "text/plain": [
       "                       created_at                   id               id_str  \\\n",
       "0  Fri Oct 02 04:25:52 +0000 2020  1311885083226169344  1311885083226169344   \n",
       "1  Fri Oct 02 04:44:14 +0000 2020  1311889706661994496  1311889706661994496   \n",
       "2  Fri Oct 02 04:59:03 +0000 2020  1311893436547715072  1311893436547715072   \n",
       "3  Fri Oct 02 05:35:50 +0000 2020  1311902690381881344  1311902690381881344   \n",
       "4  Fri Oct 02 05:45:16 +0000 2020  1311905064659771393  1311905064659771393   \n",
       "\n",
       "                                           full_text  truncated  \\\n",
       "0  #TheTrumpDepression #BidenIsWinning\\n#JoeBiden...      False   \n",
       "1  @Roscommon_Cat What's the bet we won't get his...      False   \n",
       "2         HAAHAJSKDLEKDLELDL https://t.co/l9OZSTbrrF      False   \n",
       "3  #Trump just tested positive for #COVID19\\n\\nht...      False   \n",
       "4  woj in shambles after this one https://t.co/GV...      False   \n",
       "\n",
       "  display_text_range                                           entities  \\\n",
       "0           [0, 278]  {'hashtags': [{'text': 'TheTrumpDepression', '...   \n",
       "1          [15, 294]  {'hashtags': [], 'symbols': [], 'user_mentions...   \n",
       "2            [0, 18]  {'hashtags': [], 'symbols': [], 'user_mentions...   \n",
       "3            [0, 65]  {'hashtags': [{'text': 'Trump', 'indices': [0,...   \n",
       "4            [0, 30]  {'hashtags': [], 'symbols': [], 'user_mentions...   \n",
       "\n",
       "                                              source  in_reply_to_status_id  \\\n",
       "0  <a href=\"http://twitter.com/download/android\" ...                    NaN   \n",
       "1  <a href=\"https://mobile.twitter.com\" rel=\"nofo...           1.311881e+18   \n",
       "2  <a href=\"http://twitter.com/download/iphone\" r...                    NaN   \n",
       "3  <a href=\"http://twitter.com/download/android\" ...                    NaN   \n",
       "4  <a href=\"http://twitter.com/download/iphone\" r...                    NaN   \n",
       "\n",
       "   in_reply_to_status_id_str  ...  \\\n",
       "0                        NaN  ...   \n",
       "1               1.311881e+18  ...   \n",
       "2                        NaN  ...   \n",
       "3                        NaN  ...   \n",
       "4                        NaN  ...   \n",
       "\n",
       "                             quoted_status_permalink  \\\n",
       "0  {'url': 'https://t.co/K3uEqIKDvf', 'expanded':...   \n",
       "1                                                NaN   \n",
       "2  {'url': 'https://t.co/l9OZSTbrrF', 'expanded':...   \n",
       "3                                                NaN   \n",
       "4  {'url': 'https://t.co/GVmt9337To', 'expanded':...   \n",
       "\n",
       "                                       quoted_status retweet_count  \\\n",
       "0  {'created_at': 'Fri Oct 02 01:12:32 +0000 2020...             0   \n",
       "1                                                NaN             0   \n",
       "2  {'created_at': 'Fri Oct 02 04:56:04 +0000 2020...             0   \n",
       "3                                                NaN             0   \n",
       "4  {'created_at': 'Fri Oct 02 04:54:31 +0000 2020...             0   \n",
       "\n",
       "  favorite_count favorited retweeted possibly_sensitive  lang  \\\n",
       "0              0     False     False              False   und   \n",
       "1              2     False     False                NaN    en   \n",
       "2              0     False     False              False    fi   \n",
       "3              0     False     False              False    en   \n",
       "4              1     False     False              False    en   \n",
       "\n",
       "   extended_entities                                           hashtags  \n",
       "0                NaN  [TheTrumpDepression, BidenIsWinning, JoeBiden,...  \n",
       "1                NaN                                                 []  \n",
       "2                NaN                                                 []  \n",
       "3                NaN                                   [Trump, COVID19]  \n",
       "4                NaN                                                 []  \n",
       "\n",
       "[5 rows x 31 columns]"
      ]
     },
     "execution_count": 187,
     "metadata": {},
     "output_type": "execute_result"
    }
   ],
   "source": [
    "tweets.head()"
   ]
  },
  {
   "cell_type": "code",
   "execution_count": 227,
   "metadata": {},
   "outputs": [
    {
     "data": {
      "text/plain": [
       "(2719, 31)"
      ]
     },
     "execution_count": 227,
     "metadata": {},
     "output_type": "execute_result"
    }
   ],
   "source": [
    "# number of tweets that involves Trump\n",
    "tweets.loc[tweets['full_text'].apply(lambda x: x.lower()).str.contains('trump')].shape"
   ]
  },
  {
   "cell_type": "markdown",
   "metadata": {},
   "source": [
    "---------------------------------"
   ]
  },
  {
   "cell_type": "markdown",
   "metadata": {},
   "source": [
    "### Find fake news hashtags\n",
    "Problem: they are more like dumb tweets rather than misinformation"
   ]
  },
  {
   "cell_type": "code",
   "execution_count": 228,
   "metadata": {},
   "outputs": [],
   "source": [
    "def filter_tweet_text(tweets, keyword, case = False):\n",
    "    if case:\n",
    "        tweets.loc[tweets['full_text'].str.contains(keyword)]\n",
    "    return tweets.loc[tweets['full_text'].str.lower().str.contains(keyword.lower())]"
   ]
  },
  {
   "cell_type": "code",
   "execution_count": 199,
   "metadata": {},
   "outputs": [],
   "source": [
    "def get_hashtag_counts(tweets, search_type = 'list'):\n",
    "    return pd.Series(tweets['hashtags'].sum()).value_counts()"
   ]
  },
  {
   "cell_type": "code",
   "execution_count": 204,
   "metadata": {},
   "outputs": [],
   "source": [
    "def filter_hashtags(hashtags, keyword, case = False):\n",
    "    if not case:\n",
    "        return [x for x in hashtag_counts.index[:1000] if keyword.lower() in x.lower()]\n",
    "    else:\n",
    "        return [x for x in hashtag_counts.index[:1000] if keyword in x]"
   ]
  },
  {
   "cell_type": "code",
   "execution_count": 205,
   "metadata": {},
   "outputs": [],
   "source": [
    "def find_tweet_from_hashtag(tweets, tag):\n",
    "    return tweets.loc[tweets['hashtags'].apply(lambda x: tag in x)]"
   ]
  },
  {
   "cell_type": "code",
   "execution_count": 216,
   "metadata": {},
   "outputs": [],
   "source": [
    "def filter_top_hashtags(hashtag_counts, keyword, k = 10, case = False):\n",
    "    keys = filter_hashtags(hashtag_counts.index, keyword, case=case)\n",
    "    return hashtag_counts[keys].sort_values(ascending = False).iloc[:k]"
   ]
  },
  {
   "cell_type": "code",
   "execution_count": 207,
   "metadata": {},
   "outputs": [
    {
     "data": {
      "text/plain": [
       "COVID19          1105\n",
       "coronavirus       276\n",
       "TrumpHasCovid     268\n",
       "Trump             182\n",
       "Covid19           120\n",
       "dtype: int64"
      ]
     },
     "execution_count": 207,
     "metadata": {},
     "output_type": "execute_result"
    }
   ],
   "source": [
    "hashtag_counts = get_hashtag_counts(tweets)\n",
    "hashtag_counts.head()"
   ]
  },
  {
   "cell_type": "code",
   "execution_count": 208,
   "metadata": {},
   "outputs": [
    {
     "data": {
      "text/plain": [
       "Hoax               4\n",
       "hoax               4\n",
       "coronavirushoax    2\n",
       "NOHOAX             1\n",
       "JustAHoax          1\n",
       "virushoax          1\n",
       "trumpisthehoax     1\n",
       "dtype: int64"
      ]
     },
     "execution_count": 208,
     "metadata": {},
     "output_type": "execute_result"
    }
   ],
   "source": [
    "filter_top_hashtags(hashtag_counts, 'hoax')"
   ]
  },
  {
   "cell_type": "code",
   "execution_count": 209,
   "metadata": {},
   "outputs": [
    {
     "data": {
      "text/plain": [
       "Democrats                         4\n",
       "Democrat                          3\n",
       "WalkAwayFromDemocrats             2\n",
       "DemocratsAreDestroyingAmerica     2\n",
       "DemocratsAreHypocrites            1\n",
       "DemocratsAreDomesticTerrorists    1\n",
       "dtype: int64"
      ]
     },
     "execution_count": 209,
     "metadata": {},
     "output_type": "execute_result"
    }
   ],
   "source": [
    "filter_top_hashtags(hashtag_counts, 'democrat', k = 20)"
   ]
  },
  {
   "cell_type": "code",
   "execution_count": 236,
   "metadata": {},
   "outputs": [
    {
     "data": {
      "text/plain": [
       "China         6\n",
       "ChinaVirus    4\n",
       "dtype: int64"
      ]
     },
     "execution_count": 236,
     "metadata": {},
     "output_type": "execute_result"
    }
   ],
   "source": [
    "filter_top_hashtags(hashtag_counts, 'china', k = 20)"
   ]
  },
  {
   "cell_type": "code",
   "execution_count": 210,
   "metadata": {},
   "outputs": [
    {
     "data": {
      "text/html": [
       "<div>\n",
       "<style scoped>\n",
       "    .dataframe tbody tr th:only-of-type {\n",
       "        vertical-align: middle;\n",
       "    }\n",
       "\n",
       "    .dataframe tbody tr th {\n",
       "        vertical-align: top;\n",
       "    }\n",
       "\n",
       "    .dataframe thead th {\n",
       "        text-align: right;\n",
       "    }\n",
       "</style>\n",
       "<table border=\"1\" class=\"dataframe\">\n",
       "  <thead>\n",
       "    <tr style=\"text-align: right;\">\n",
       "      <th></th>\n",
       "      <th>created_at</th>\n",
       "      <th>id</th>\n",
       "      <th>id_str</th>\n",
       "      <th>full_text</th>\n",
       "      <th>truncated</th>\n",
       "      <th>display_text_range</th>\n",
       "      <th>entities</th>\n",
       "      <th>source</th>\n",
       "      <th>in_reply_to_status_id</th>\n",
       "      <th>in_reply_to_status_id_str</th>\n",
       "      <th>...</th>\n",
       "      <th>quoted_status_permalink</th>\n",
       "      <th>quoted_status</th>\n",
       "      <th>retweet_count</th>\n",
       "      <th>favorite_count</th>\n",
       "      <th>favorited</th>\n",
       "      <th>retweeted</th>\n",
       "      <th>possibly_sensitive</th>\n",
       "      <th>lang</th>\n",
       "      <th>extended_entities</th>\n",
       "      <th>hashtags</th>\n",
       "    </tr>\n",
       "  </thead>\n",
       "  <tbody>\n",
       "    <tr>\n",
       "      <th>3654</th>\n",
       "      <td>Fri Oct 02 06:56:40 +0000 2020</td>\n",
       "      <td>1311923034064740353</td>\n",
       "      <td>1311923034064740353</td>\n",
       "      <td>#DonaldTrump contracts the #coronavirus • It a...</td>\n",
       "      <td>False</td>\n",
       "      <td>[0, 234]</td>\n",
       "      <td>{'hashtags': [{'text': 'DonaldTrump', 'indices...</td>\n",
       "      <td>&lt;a href=\"http://twitter.com/download/iphone\" r...</td>\n",
       "      <td>NaN</td>\n",
       "      <td>NaN</td>\n",
       "      <td>...</td>\n",
       "      <td>NaN</td>\n",
       "      <td>NaN</td>\n",
       "      <td>0</td>\n",
       "      <td>1</td>\n",
       "      <td>False</td>\n",
       "      <td>False</td>\n",
       "      <td>NaN</td>\n",
       "      <td>en</td>\n",
       "      <td>NaN</td>\n",
       "      <td>[DonaldTrump, coronavirus, Democrats, Repulica...</td>\n",
       "    </tr>\n",
       "    <tr>\n",
       "      <th>3957</th>\n",
       "      <td>Fri Oct 02 15:28:37 +0000 2020</td>\n",
       "      <td>1312051869263433728</td>\n",
       "      <td>1312051869263433728</td>\n",
       "      <td>If Trump being of his age tests positive for #...</td>\n",
       "      <td>False</td>\n",
       "      <td>[0, 287]</td>\n",
       "      <td>{'hashtags': [{'text': 'COVID19', 'indices': [...</td>\n",
       "      <td>&lt;a href=\"http://twitter.com/download/android\" ...</td>\n",
       "      <td>NaN</td>\n",
       "      <td>NaN</td>\n",
       "      <td>...</td>\n",
       "      <td>NaN</td>\n",
       "      <td>NaN</td>\n",
       "      <td>0</td>\n",
       "      <td>0</td>\n",
       "      <td>False</td>\n",
       "      <td>False</td>\n",
       "      <td>False</td>\n",
       "      <td>en</td>\n",
       "      <td>{'media': [{'id': 1312051867052994560, 'id_str...</td>\n",
       "      <td>[COVID19, Democrats, Sad]</td>\n",
       "    </tr>\n",
       "    <tr>\n",
       "      <th>4220</th>\n",
       "      <td>Fri Oct 02 13:30:18 +0000 2020</td>\n",
       "      <td>1312022094306316294</td>\n",
       "      <td>1312022094306316294</td>\n",
       "      <td>Now #Democrats are saying #Trump is faking hav...</td>\n",
       "      <td>False</td>\n",
       "      <td>[0, 275]</td>\n",
       "      <td>{'hashtags': [{'text': 'Democrats', 'indices':...</td>\n",
       "      <td>&lt;a href=\"https://mobile.twitter.com\" rel=\"nofo...</td>\n",
       "      <td>NaN</td>\n",
       "      <td>NaN</td>\n",
       "      <td>...</td>\n",
       "      <td>{'url': 'https://t.co/RfmaX9zeeq', 'expanded':...</td>\n",
       "      <td>{'created_at': 'Fri Oct 02 10:39:44 +0000 2020...</td>\n",
       "      <td>0</td>\n",
       "      <td>0</td>\n",
       "      <td>False</td>\n",
       "      <td>False</td>\n",
       "      <td>False</td>\n",
       "      <td>en</td>\n",
       "      <td>NaN</td>\n",
       "      <td>[Democrats, Trump, COVID19, coronavirus, Left,...</td>\n",
       "    </tr>\n",
       "    <tr>\n",
       "      <th>5537</th>\n",
       "      <td>Sat Oct 03 01:39:44 +0000 2020</td>\n",
       "      <td>1312205661787152385</td>\n",
       "      <td>1312205661787152385</td>\n",
       "      <td>On September 7, Trump asked @Reuters journalis...</td>\n",
       "      <td>False</td>\n",
       "      <td>[0, 277]</td>\n",
       "      <td>{'hashtags': [{'text': 'COVID19', 'indices': [...</td>\n",
       "      <td>&lt;a href=\"https://mobile.twitter.com\" rel=\"nofo...</td>\n",
       "      <td>NaN</td>\n",
       "      <td>NaN</td>\n",
       "      <td>...</td>\n",
       "      <td>NaN</td>\n",
       "      <td>NaN</td>\n",
       "      <td>1</td>\n",
       "      <td>2</td>\n",
       "      <td>False</td>\n",
       "      <td>False</td>\n",
       "      <td>False</td>\n",
       "      <td>en</td>\n",
       "      <td>{'media': [{'id': 1303205514193428480, 'id_str...</td>\n",
       "      <td>[COVID19, Coronavirus, TrumpHasCovid, Democrat...</td>\n",
       "    </tr>\n",
       "  </tbody>\n",
       "</table>\n",
       "<p>4 rows × 31 columns</p>\n",
       "</div>"
      ],
      "text/plain": [
       "                          created_at                   id  \\\n",
       "3654  Fri Oct 02 06:56:40 +0000 2020  1311923034064740353   \n",
       "3957  Fri Oct 02 15:28:37 +0000 2020  1312051869263433728   \n",
       "4220  Fri Oct 02 13:30:18 +0000 2020  1312022094306316294   \n",
       "5537  Sat Oct 03 01:39:44 +0000 2020  1312205661787152385   \n",
       "\n",
       "                   id_str                                          full_text  \\\n",
       "3654  1311923034064740353  #DonaldTrump contracts the #coronavirus • It a...   \n",
       "3957  1312051869263433728  If Trump being of his age tests positive for #...   \n",
       "4220  1312022094306316294  Now #Democrats are saying #Trump is faking hav...   \n",
       "5537  1312205661787152385  On September 7, Trump asked @Reuters journalis...   \n",
       "\n",
       "      truncated display_text_range  \\\n",
       "3654      False           [0, 234]   \n",
       "3957      False           [0, 287]   \n",
       "4220      False           [0, 275]   \n",
       "5537      False           [0, 277]   \n",
       "\n",
       "                                               entities  \\\n",
       "3654  {'hashtags': [{'text': 'DonaldTrump', 'indices...   \n",
       "3957  {'hashtags': [{'text': 'COVID19', 'indices': [...   \n",
       "4220  {'hashtags': [{'text': 'Democrats', 'indices':...   \n",
       "5537  {'hashtags': [{'text': 'COVID19', 'indices': [...   \n",
       "\n",
       "                                                 source  \\\n",
       "3654  <a href=\"http://twitter.com/download/iphone\" r...   \n",
       "3957  <a href=\"http://twitter.com/download/android\" ...   \n",
       "4220  <a href=\"https://mobile.twitter.com\" rel=\"nofo...   \n",
       "5537  <a href=\"https://mobile.twitter.com\" rel=\"nofo...   \n",
       "\n",
       "      in_reply_to_status_id  in_reply_to_status_id_str  ...  \\\n",
       "3654                    NaN                        NaN  ...   \n",
       "3957                    NaN                        NaN  ...   \n",
       "4220                    NaN                        NaN  ...   \n",
       "5537                    NaN                        NaN  ...   \n",
       "\n",
       "                                quoted_status_permalink  \\\n",
       "3654                                                NaN   \n",
       "3957                                                NaN   \n",
       "4220  {'url': 'https://t.co/RfmaX9zeeq', 'expanded':...   \n",
       "5537                                                NaN   \n",
       "\n",
       "                                          quoted_status retweet_count  \\\n",
       "3654                                                NaN             0   \n",
       "3957                                                NaN             0   \n",
       "4220  {'created_at': 'Fri Oct 02 10:39:44 +0000 2020...             0   \n",
       "5537                                                NaN             1   \n",
       "\n",
       "     favorite_count favorited retweeted possibly_sensitive  lang  \\\n",
       "3654              1     False     False                NaN    en   \n",
       "3957              0     False     False              False    en   \n",
       "4220              0     False     False              False    en   \n",
       "5537              2     False     False              False    en   \n",
       "\n",
       "                                      extended_entities  \\\n",
       "3654                                                NaN   \n",
       "3957  {'media': [{'id': 1312051867052994560, 'id_str...   \n",
       "4220                                                NaN   \n",
       "5537  {'media': [{'id': 1303205514193428480, 'id_str...   \n",
       "\n",
       "                                               hashtags  \n",
       "3654  [DonaldTrump, coronavirus, Democrats, Repulica...  \n",
       "3957                          [COVID19, Democrats, Sad]  \n",
       "4220  [Democrats, Trump, COVID19, coronavirus, Left,...  \n",
       "5537  [COVID19, Coronavirus, TrumpHasCovid, Democrat...  \n",
       "\n",
       "[4 rows x 31 columns]"
      ]
     },
     "execution_count": 210,
     "metadata": {},
     "output_type": "execute_result"
    }
   ],
   "source": [
    "find_tweet_from_hashtag(tweets, 'Democrats')"
   ]
  },
  {
   "cell_type": "markdown",
   "metadata": {},
   "source": [
    "### Scientific news"
   ]
  },
  {
   "cell_type": "code",
   "execution_count": 239,
   "metadata": {},
   "outputs": [
    {
     "data": {
      "text/plain": [
       "WearAMask           32\n",
       "WearADamnMask       20\n",
       "MaskUp               6\n",
       "mask                 5\n",
       "Maskup               4\n",
       "MaskUpAmerica        3\n",
       "Masks                3\n",
       "facemask             2\n",
       "NoMasks              2\n",
       "PutYourMaskOn        1\n",
       "facemasks            1\n",
       "Maskenpropaganda     1\n",
       "ClothFaceMask        1\n",
       "RespectTheMask       1\n",
       "dtype: int64"
      ]
     },
     "execution_count": 239,
     "metadata": {},
     "output_type": "execute_result"
    }
   ],
   "source": [
    "filter_top_hashtags(hashtag_counts, 'mask', k = 20)"
   ]
  },
  {
   "cell_type": "code",
   "execution_count": null,
   "metadata": {},
   "outputs": [],
   "source": []
  }
 ],
 "metadata": {
  "kernelspec": {
   "display_name": "Python 3",
   "language": "python",
   "name": "python3"
  },
  "language_info": {
   "codemirror_mode": {
    "name": "ipython",
    "version": 3
   },
   "file_extension": ".py",
   "mimetype": "text/x-python",
   "name": "python",
   "nbconvert_exporter": "python",
   "pygments_lexer": "ipython3",
   "version": "3.7.6"
  }
 },
 "nbformat": 4,
 "nbformat_minor": 4
}
