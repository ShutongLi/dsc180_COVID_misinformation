{
 "cells": [
  {
   "cell_type": "code",
   "execution_count": 1,
   "metadata": {},
   "outputs": [],
   "source": [
    "import pandas as pd\n",
    "import numpy as np\n",
    "import json\n",
    "import os\n",
    "from src.features import generate_features\n",
    "import tweepy\n",
    "import datetime\n",
    "%load_ext autoreload\n",
    "%autoreload 2"
   ]
  },
  {
   "cell_type": "code",
   "execution_count": 2,
   "metadata": {},
   "outputs": [],
   "source": [
    "with open('./config/viz_params.json') as f:\n",
    "    viz_params = json.load(f)\n",
    "# Cfg variables\n",
    "path = viz_params['path']\n",
    "top_k = viz_params['top_k']\n",
    "top_k_fig_path = viz_params['top_k_fig_path']\n",
    "user_hist_path = viz_params['user_hist_path']\n",
    "user_hist_zoom_path = viz_params['user_hist_zoom_path']\n",
    "good_path = viz_params['good_path']\n",
    "bad_path = viz_params['bad_path']\n",
    "good_tags = viz_params['good_tags']\n",
    "bad_tags = viz_params['bad_tags']\n",
    "\n",
    "with open('./config/polarity.json') as f:\n",
    "    polarity_params = json.load(f)  \n",
    "top_k = polarity_params['top_k']\n",
    "api_keys = polarity_params['api_keys']\n",
    "marker_tags = polarity_params['marker_tags']\n",
    "max_posts = polarity_params['max_posts']\n",
    "start_date = polarity_params['start_date']\n",
    "end_date = polarity_params['end_date']\n",
    "date_pattern = polarity_params['twitter_date_pattern']\n",
    "max_iter = polarity_params['max_iter']\n",
    "toi_con = polarity_params['toi_con']\n",
    "num_retrieve_con = polarity_params['num_retrieve_con']\n",
    "toi_sci = polarity_params['toi_sci']\n",
    "con_path = polarity_params['con_path']\n",
    "sci_path = polarity_params['sci_path']\n",
    "\n",
    "with open(api_keys) as f:\n",
    "    keys = json.load(f)\n",
    "consumer_key = keys['consumer_key']\n",
    "consumer_secret = keys['consumer_secret']\n",
    "access_token = keys['access_token']\n",
    "access_token_secret = keys['access_token_secret']    \n",
    "\n",
    "# this needs a place to fit in\n",
    "auth = tweepy.OAuthHandler(consumer_key, consumer_secret)\n",
    "auth.set_access_token(access_token, access_token_secret)\n",
    "api = tweepy.API(auth, wait_on_rate_limit=True)"
   ]
  },
  {
   "cell_type": "code",
   "execution_count": 3,
   "metadata": {},
   "outputs": [
    {
     "data": {
      "text/plain": [
       "['WuhanVirus', 'hoax']"
      ]
     },
     "execution_count": 3,
     "metadata": {},
     "output_type": "execute_result"
    }
   ],
   "source": [
    "marker_tags"
   ]
  },
  {
   "cell_type": "code",
   "execution_count": 4,
   "metadata": {},
   "outputs": [],
   "source": [
    "jsons = [os.path.join(path, name) for name in sorted(os.listdir(path)) if 'dataset' in name]"
   ]
  },
  {
   "cell_type": "markdown",
   "metadata": {},
   "source": [
    "# Hashtag Polarity\n",
    "* b = Baseline ROF (rate of frequency) = num top 200 / num tweets\n",
    "* m = Marker ROF = num top 200 / num subset tweets (ones containing marker tweets)\n",
    "* hashtag polarity = (m-b)/b"
   ]
  },
  {
   "cell_type": "code",
   "execution_count": 16,
   "metadata": {
    "scrolled": true
   },
   "outputs": [
    {
     "name": "stdout",
     "output_type": "stream",
     "text": [
      "polarity mode\n",
      "there are 1044009 tweets and 543 subset tweets\n"
     ]
    }
   ],
   "source": [
    "ht_polarity = generate_features.hashtag_polarity(jsons, top_k, marker_ht = marker_tags)"
   ]
  },
  {
   "cell_type": "code",
   "execution_count": 17,
   "metadata": {},
   "outputs": [
    {
     "data": {
      "text/plain": [
       "COVID19        0.068193\n",
       "coronavirus    0.650984\n",
       "Covid19        0.180114\n",
       "Coronavirus    0.456768\n",
       "covid19       -0.105819\n",
       "dtype: float64"
      ]
     },
     "execution_count": 17,
     "metadata": {},
     "output_type": "execute_result"
    }
   ],
   "source": [
    "ht_polarity.head()"
   ]
  },
  {
   "cell_type": "code",
   "execution_count": 39,
   "metadata": {},
   "outputs": [],
   "source": [
    "ht_polarity.to_json('ht_polarity.json')"
   ]
  },
  {
   "cell_type": "code",
   "execution_count": 7,
   "metadata": {},
   "outputs": [],
   "source": [
    "ht_polarity= pd.read_json('ht_polarity.json', typ='series')"
   ]
  },
  {
   "cell_type": "markdown",
   "metadata": {},
   "source": [
    "# User Polarity"
   ]
  },
  {
   "cell_type": "code",
   "execution_count": 7,
   "metadata": {
    "scrolled": true
   },
   "outputs": [
    {
     "name": "stdout",
     "output_type": "stream",
     "text": [
      "18905 users in total\r"
     ]
    }
   ],
   "source": [
    "users =  generate_features.collect_all_users(jsons)"
   ]
  },
  {
   "cell_type": "code",
   "execution_count": 8,
   "metadata": {},
   "outputs": [],
   "source": [
    "example_user = 'DrMeghanWalls'"
   ]
  },
  {
   "cell_type": "code",
   "execution_count": 9,
   "metadata": {},
   "outputs": [
    {
     "name": "stdout",
     "output_type": "stream",
     "text": [
      "investigating DrMeghanWalls\n",
      "983 500 tweets qualified Fri Jul 31 12:38:54 +0000 2020\r"
     ]
    }
   ],
   "source": [
    "norm_pol = generate_features.user_polarity(api, example_user,\n",
    "                                           set(ht_polarity.index), \n",
    "                                           start_date, end_date, date_pattern,\n",
    "                                           ht_polarity, \n",
    "                                           max_posts = max_posts, \n",
    "                                           max_iter=max_iter,\n",
    "                                          )"
   ]
  },
  {
   "cell_type": "code",
   "execution_count": 10,
   "metadata": {},
   "outputs": [
    {
     "data": {
      "text/plain": [
       "-0.48741066089903107"
      ]
     },
     "execution_count": 10,
     "metadata": {},
     "output_type": "execute_result"
    }
   ],
   "source": [
    "norm_pol"
   ]
  },
  {
   "cell_type": "markdown",
   "metadata": {},
   "source": [
    "# Inquiry on a single tweet"
   ]
  },
  {
   "cell_type": "code",
   "execution_count": 8,
   "metadata": {},
   "outputs": [],
   "source": [
    "retweets = api.retweets(toi_con, num_retrieve_con)"
   ]
  },
  {
   "cell_type": "code",
   "execution_count": 9,
   "metadata": {
    "scrolled": true
   },
   "outputs": [],
   "source": [
    "up_dict = generate_features.investigate_retweets(api, toi_sci, num_retrieve_con,\n",
    "                                           set(ht_polarity.index), \n",
    "                                           start_date, end_date, date_pattern,\n",
    "                                           ht_polarity, sci_path,\n",
    "                                           max_posts = max_posts, \n",
    "                                           max_iter=max_iter)"
   ]
  },
  {
   "cell_type": "code",
   "execution_count": 13,
   "metadata": {},
   "outputs": [
    {
     "ename": "NameError",
     "evalue": "name 'up_dict' is not defined",
     "output_type": "error",
     "traceback": [
      "\u001b[0;31m\u001b[0m",
      "\u001b[0;31mNameError\u001b[0mTraceback (most recent call last)",
      "\u001b[0;32m<ipython-input-13-f15844dc0177>\u001b[0m in \u001b[0;36m<module>\u001b[0;34m\u001b[0m\n\u001b[0;32m----> 1\u001b[0;31m \u001b[0mup_dict\u001b[0m\u001b[0;34m\u001b[0m\u001b[0;34m\u001b[0m\u001b[0m\n\u001b[0m",
      "\u001b[0;31mNameError\u001b[0m: name 'up_dict' is not defined"
     ]
    }
   ],
   "source": [
    "up_dict"
   ]
  },
  {
   "cell_type": "code",
   "execution_count": null,
   "metadata": {},
   "outputs": [],
   "source": []
  }
 ],
 "metadata": {
  "kernelspec": {
   "display_name": "Python 3",
   "language": "python",
   "name": "python3"
  },
  "language_info": {
   "codemirror_mode": {
    "name": "ipython",
    "version": 3
   },
   "file_extension": ".py",
   "mimetype": "text/x-python",
   "name": "python",
   "nbconvert_exporter": "python",
   "pygments_lexer": "ipython3",
   "version": "3.7.6"
  }
 },
 "nbformat": 4,
 "nbformat_minor": 4
}
