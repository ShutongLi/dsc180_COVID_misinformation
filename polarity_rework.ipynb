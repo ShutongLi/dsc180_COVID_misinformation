{
 "cells": [
  {
   "cell_type": "code",
   "execution_count": 20,
   "metadata": {},
   "outputs": [
    {
     "name": "stdout",
     "output_type": "stream",
     "text": [
      "The autoreload extension is already loaded. To reload it, use:\n",
      "  %reload_ext autoreload\n"
     ]
    }
   ],
   "source": [
    "import pandas as pd\n",
    "import numpy as np\n",
    "import json\n",
    "import os\n",
    "from src.features import generate_features\n",
    "import tweepy\n",
    "import datetime\n",
    "%load_ext autoreload\n",
    "%autoreload 2\n",
    "import matplotlib.pyplot as plt"
   ]
  },
  {
   "cell_type": "code",
   "execution_count": 2,
   "metadata": {},
   "outputs": [],
   "source": [
    "with open('./config/viz_params.json') as f:\n",
    "    viz_params = json.load(f)\n",
    "# Cfg variables\n",
    "path = viz_params['path']\n",
    "top_k = viz_params['top_k']\n",
    "top_k_fig_path = viz_params['top_k_fig_path']\n",
    "user_hist_path = viz_params['user_hist_path']\n",
    "user_hist_zoom_path = viz_params['user_hist_zoom_path']\n",
    "good_path = viz_params['good_path']\n",
    "bad_path = viz_params['bad_path']\n",
    "good_tags = viz_params['good_tags']\n",
    "bad_tags = viz_params['bad_tags']\n",
    "\n",
    "with open('./config/polarity.json') as f:\n",
    "    polarity_params = json.load(f)  \n",
    "top_k = polarity_params['top_k']\n",
    "api_keys = polarity_params['api_keys']\n",
    "marker_tags = polarity_params['marker_tags']\n",
    "max_posts = polarity_params['max_posts']\n",
    "start_date = polarity_params['start_date']\n",
    "end_date = polarity_params['end_date']\n",
    "date_pattern = polarity_params['twitter_date_pattern']\n",
    "max_iter = polarity_params['max_iter']\n",
    "toi_con = polarity_params['toi_con']\n",
    "num_retrieve_con = polarity_params['num_retrieve_con']\n",
    "toi_sci = polarity_params['toi_sci']\n",
    "con_path = polarity_params['con_path']\n",
    "sci_path = polarity_params['sci_path']\n",
    "\n",
    "with open(api_keys) as f:\n",
    "    keys = json.load(f)\n",
    "consumer_key = keys['consumer_key']\n",
    "consumer_secret = keys['consumer_secret']\n",
    "access_token = keys['access_token']\n",
    "access_token_secret = keys['access_token_secret']    \n",
    "\n",
    "# this needs a place to fit in\n",
    "auth = tweepy.OAuthHandler(consumer_key, consumer_secret)\n",
    "auth.set_access_token(access_token, access_token_secret)\n",
    "api = tweepy.API(auth, wait_on_rate_limit=True)"
   ]
  },
  {
   "cell_type": "code",
   "execution_count": 3,
   "metadata": {},
   "outputs": [
    {
     "data": {
      "text/plain": [
       "['WuhanVirus', 'hoax']"
      ]
     },
     "execution_count": 3,
     "metadata": {},
     "output_type": "execute_result"
    }
   ],
   "source": [
    "marker_tags"
   ]
  },
  {
   "cell_type": "code",
   "execution_count": 4,
   "metadata": {},
   "outputs": [],
   "source": [
    "jsons = [os.path.join(path, name) for name in sorted(os.listdir(path)) if 'dataset' in name]"
   ]
  },
  {
   "cell_type": "markdown",
   "metadata": {},
   "source": [
    "# Hashtag Polarity\n",
    "* b = Baseline ROF (rate of frequency) = num top 200 / num tweets\n",
    "* m = Marker ROF = num top 200 / num subset tweets (ones containing marker tweets)\n",
    "* hashtag polarity = (m-b)/b"
   ]
  },
  {
   "cell_type": "code",
   "execution_count": 16,
   "metadata": {
    "scrolled": true
   },
   "outputs": [
    {
     "name": "stdout",
     "output_type": "stream",
     "text": [
      "polarity mode\n",
      "there are 1044009 tweets and 543 subset tweets\n"
     ]
    }
   ],
   "source": [
    "ht_polarity = generate_features.hashtag_polarity(jsons, top_k, marker_ht = marker_tags)"
   ]
  },
  {
   "cell_type": "code",
   "execution_count": 17,
   "metadata": {},
   "outputs": [
    {
     "data": {
      "text/plain": [
       "COVID19        0.068193\n",
       "coronavirus    0.650984\n",
       "Covid19        0.180114\n",
       "Coronavirus    0.456768\n",
       "covid19       -0.105819\n",
       "dtype: float64"
      ]
     },
     "execution_count": 17,
     "metadata": {},
     "output_type": "execute_result"
    }
   ],
   "source": [
    "ht_polarity.head()"
   ]
  },
  {
   "cell_type": "code",
   "execution_count": 39,
   "metadata": {},
   "outputs": [],
   "source": [
    "ht_polarity.to_json('ht_polarity.json')"
   ]
  },
  {
   "cell_type": "code",
   "execution_count": 7,
   "metadata": {},
   "outputs": [],
   "source": [
    "ht_polarity= pd.read_json('ht_polarity.json', typ='series')"
   ]
  },
  {
   "cell_type": "markdown",
   "metadata": {},
   "source": [
    "# User Polarity"
   ]
  },
  {
   "cell_type": "code",
   "execution_count": 7,
   "metadata": {
    "scrolled": true
   },
   "outputs": [
    {
     "name": "stdout",
     "output_type": "stream",
     "text": [
      "18905 users in total\r"
     ]
    }
   ],
   "source": [
    "users =  generate_features.collect_all_users(jsons)"
   ]
  },
  {
   "cell_type": "code",
   "execution_count": 8,
   "metadata": {},
   "outputs": [],
   "source": [
    "example_user = 'DrMeghanWalls'"
   ]
  },
  {
   "cell_type": "code",
   "execution_count": 9,
   "metadata": {},
   "outputs": [
    {
     "name": "stdout",
     "output_type": "stream",
     "text": [
      "investigating DrMeghanWalls\n",
      "983 500 tweets qualified Fri Jul 31 12:38:54 +0000 2020\r"
     ]
    }
   ],
   "source": [
    "norm_pol = generate_features.user_polarity(api, example_user,\n",
    "                                           set(ht_polarity.index), \n",
    "                                           start_date, end_date, date_pattern,\n",
    "                                           ht_polarity, \n",
    "                                           max_posts = max_posts, \n",
    "                                           max_iter=max_iter,\n",
    "                                          )"
   ]
  },
  {
   "cell_type": "code",
   "execution_count": 10,
   "metadata": {},
   "outputs": [
    {
     "data": {
      "text/plain": [
       "-0.48741066089903107"
      ]
     },
     "execution_count": 10,
     "metadata": {},
     "output_type": "execute_result"
    }
   ],
   "source": [
    "norm_pol"
   ]
  },
  {
   "cell_type": "markdown",
   "metadata": {},
   "source": [
    "# Inquiry on a single tweet"
   ]
  },
  {
   "cell_type": "code",
   "execution_count": 8,
   "metadata": {},
   "outputs": [],
   "source": [
    "retweets = api.retweets(toi_con, num_retrieve_con)"
   ]
  },
  {
   "cell_type": "code",
   "execution_count": 10,
   "metadata": {
    "scrolled": true
   },
   "outputs": [
    {
     "name": "stdout",
     "output_type": "stream",
     "text": [
      "investigating sumidatomohisa\n",
      "0.0 00 tweets qualified Thu Nov 19 14:35:08 +0000 2020\n",
      "investigating CLPServicesLLC\n"
     ]
    },
    {
     "name": "stderr",
     "output_type": "stream",
     "text": [
      "/datasets/home/home-00/17/617/shl636/dsc180_project_structure/src/features/generate_features.py:154: RuntimeWarning: invalid value encountered in double_scalars\n",
      "  u_pol /= num_norm_tweets\n"
     ]
    },
    {
     "name": "stdout",
     "output_type": "stream",
     "text": [
      "0.0681931298 1lified Tue Jun 02 04:35:18 +0000 2020\n",
      "investigating BaumhartCaitlin\n",
      "66.89601675189999 50fied Mon Jun 01 18:59:34 +0000 2020\n",
      "investigating nursevictoria11379998\n",
      "0.0 00 tweets qualified Mon Oct 12 08:15:35 +0000 2020\n",
      "investigating Lil_JRice\n",
      "0.0 00 tweets qualified Tue Nov 24 22:28:42 +0000 2020\n",
      "investigating MALGOHARY1\n",
      "4.3961998473 9 qualified Sun Jul 10 23:11:00 +0000 2011\n",
      "investigating maki_krmr70000003\n",
      "0.0 0200 tweets qualified Fri Sep 25 13:16:35 +0000 2020\n",
      "investigating timwlsn31\n",
      "6.9565653916 21qualified Tue Sep 22 20:54:30 +0000 2020\n",
      "investigating tedwlsn314761904\n",
      "-6.249875572200001 15ied Tue Sep 22 21:12:31 +0000 2020\n",
      "investigating Saudi_Pharma_07\n",
      "0.0 00 tweets qualified Sat Oct 10 20:26:54 +0000 2020\n",
      "investigating LefkoRodi\n",
      "0.0893305996 1 qualified Thu Sep 10 07:05:57 +0000 2020\n",
      "investigating tomwlsn31\n",
      "-9.1134893126 21ualified Tue Sep 22 20:42:34 +0000 2020\n",
      "investigating JohnDoe47564694\n",
      "24.451098767999998 15ied Tue Aug 25 20:30:24 +0000 2020\n",
      "investigating mefromfairyland999998\n",
      "0.0681931298 1qualified Sat Mar 02 10:37:11 +0000 2019\n",
      "investigating heyitsmar_ugh98\n",
      "0.0 0200 tweets qualified Tue Sep 22 23:35:31 +0000 2020\n",
      "investigating 1privatepa\n",
      "0.0 00 tweets qualified Sun Jun 15 03:49:36 +0000 2014\n",
      "investigating Qtz\n",
      "14.221826346100002 15fied Tue Sep 22 03:50:37 +0000 2020\n",
      "investigating pchynY5GOjXl6ai\n",
      "1647.5746128053001 20ied Sun Aug 02 04:12:46 +0000 2020\n",
      "investigating awani2878730640265\n",
      "11.8416720419 9qualified Thu Jun 18 06:02:42 +0000 2020\n",
      "investigating Glabenysb889\n",
      "0.0 000 tweets qualified Sun Jun 14 00:31:06 +0000 2020\n",
      "investigating ATSTrauma\n",
      "0.31650060010000003 3ied Wed May 27 22:51:47 +0000 2020\n",
      "investigating AllenGerm9733334\n",
      "253.22669624809998 4fied Fri Sep 18 10:12:44 +0000 2020\n",
      "investigating FastMDx4062024996\n",
      "45.4475154408 21ualified Mon Oct 10 19:05:54 +0000 2011\n",
      "investigating diplomics_sa\n",
      "54.37591285490001 30fied Wed Aug 21 12:26:35 +0000 2019\n",
      "investigating khhollings8496667\n",
      "23.1864998249 5 qualified Thu Sep 24 17:22:57 +0000 2020\n",
      "investigating T_bin_A6498\n",
      "0.0 000 tweets qualified Fri Sep 25 14:07:15 +0000 2020\n",
      "investigating jaquepersists\n",
      "0.0 000 tweets qualified Sun Jul 19 17:22:07 +0000 2020\n",
      "investigating KwakuAkyeampong\n",
      "5.2940674394 3 qualified Thu Sep 03 11:16:47 +0000 2020\n",
      "investigating msalmanyousaf83666667\n",
      "0.0 000 tweets qualified Sun Aug 30 03:37:18 +0000 2020\n",
      "investigating MaximoRey16\n",
      "0.0 00 tweets qualified Sat Oct 03 13:15:55 +0000 2020\n",
      "investigating CookCoHealth\n",
      "2.1139870238 31 qualified Mon Sep 14 12:45:05 +0000 2020\n",
      "investigating IllinoisDoctors\n",
      "0.2732702304000001 48ied Wed Aug 19 14:27:00 +0000 2020\n",
      "investigating arrapak5693129800000002\n",
      "-1.0 10 tweets qualified Tue Jun 30 22:40:05 +0000 2020\n",
      "investigating irfanalibalti\n",
      "0.0 00 tweets qualified Thu Nov 05 06:54:18 +0000 2020\n",
      "investigating RedondoBeachBCT\n",
      "0.2045793894 3 qualified Thu Nov 17 00:11:28 +0000 2016\n",
      "investigating M_hammad_riaz98\n",
      "8.0407610108 1ualified Mon Jun 23 09:28:01 +0000 2014\n",
      "investigating airtroinc0108\n",
      "0.0 000 tweets qualified Mon Aug 31 03:56:15 +0000 2020\n",
      "investigating ArsMustafa\n",
      "4.9185694038 2s qualified Sat Sep 12 04:29:35 +0000 2020\n",
      "investigating FoothillTransit\n",
      "-1.4544549616 9qualified Mon Aug 03 02:53:32 +0000 2020\n",
      "investigating RAHomecare0610684444443\n",
      "19.9105608378 8ualified Tue Jan 21 03:59:13 +0000 2020\n",
      "investigating sageman19575\n",
      "-0.3386529022 5qualified Thu Sep 03 19:46:39 +0000 2020\n",
      "investigating sachz_A058044\n",
      "14.6870925448 1qualified Mon Aug 10 14:08:02 +0000 2020\n",
      "investigating RWUEHS48\n",
      "0.1363862596 2qualified Wed Jul 13 13:07:18 +0000 2011\n",
      "investigating RCHealthDept\n",
      "-1.0452961828 15ualified Thu Aug 20 12:55:20 +0000 2020\n",
      "investigating NYUDentalAlumni66667\n",
      "1.7238855911999997 11ied Fri Apr 06 21:34:35 +0000 2018\n",
      "investigating jesusandres8819272727\n",
      "59.307041818399995 24ied Sun Sep 13 16:11:25 +0000 2020\n",
      "investigating EllioteSF742433333\n",
      "2.5572035306 1 qualified Sat Apr 11 16:12:31 +0000 2020\n",
      "investigating abdullahsalih\n",
      "20.2512747904 6qualified Wed Jul 15 18:27:01 +0000 2020\n",
      "investigating rhs_04336365066667\n",
      "1010.8216261617999 7fied Wed Aug 26 06:11:10 +0000 2020\n",
      "investigating ajfactual526857\n",
      "12.168708207 2s qualified Wed Sep 23 03:44:22 +0000 2020\n",
      "investigating ItalyinBoston\n",
      "312.35247826159997 40ied Mon May 11 17:49:12 +0000 2020\n",
      "investigating ziomara2695654\n",
      "11.3683125023 3qualified Tue Aug 25 19:48:33 +0000 2020\n",
      "investigating PattyPharmD6667\n",
      "7.049042214 8 qualified Sun Nov 13 23:31:10 +0000 2016\n",
      "investigating TurkiAltheeb\n",
      "-1.8198856595 3qualified Mon Jul 20 23:20:22 +0000 2020\n",
      "investigating afounamohsen1666666\n",
      "0.6211370222 1 qualified Sun Aug 23 17:36:13 +0000 2020\n",
      "investigating vvpriyanka22\n",
      "17.0756498425 9qualified Fri May 29 19:11:07 +0000 2020\n",
      "investigating FDAPatientinfo43\n",
      "-5.8178198464 40ualified Mon Jul 20 14:59:29 +0000 2020\n",
      "investigating AHRQNews44549616\n",
      "16.2469256318 38qualified Thu Sep 24 17:36:09 +0000 2020\n",
      "investigating raminakhi10526\n",
      "28.286303528399998 10fied Sun Mar 12 14:31:35 +0000 2017\n",
      "investigating NIDCR35284\n",
      "24.1175376021 38ualified Wed Jun 17 19:40:09 +0000 2020\n",
      "investigating ButtockPennock\n",
      "0.0 00 tweets qualified Fri Nov 06 15:48:49 +0000 2020\n",
      "investigating MichellejJust\n",
      "-1.7907712984 6qualified Thu Apr 30 14:53:44 +0000 2020\n",
      "investigating CedarsSinai8306666666\n",
      "0.21942643499999992 26ed Fri Aug 28 17:01:37 +0000 2020\n",
      "investigating ss_marijo8269230766\n",
      "6.2733394651 20qualified Mon Mar 24 23:46:40 +0000 2014\n",
      "investigating cvdiaz2325500004\n",
      "-1.1058187572 2ualified Sun Oct 26 20:08:23 +0000 2014\n",
      "investigating NortheastHealth\n",
      "3.4729319804000003 2fied Tue Jun 02 18:00:20 +0000 2020\n",
      "investigating merrenelias9902000001\n",
      "-3.0 30 tweets qualified Wed Jun 10 04:54:23 +0000 2020\n",
      "investigating 446AW\n",
      "-0.9318068702 1qualified Wed Apr 21 22:39:45 +0000 2010\n",
      "investigating AmgenBiosim\n",
      "1.022896947 15 qualified Tue Apr 07 14:00:07 +0000 2015\n",
      "investigating v_macclinchy\n",
      "0.0 0200 tweets qualified Sun Sep 27 20:44:32 +0000 2020\n",
      "investigating lesueurmn\n",
      "0.1363862596 2s qualified Thu Jul 16 15:56:06 +0000 2015\n",
      "investigating babi_ny98\n",
      "0.7191775794 1 qualified Tue Sep 15 04:42:10 +0000 2009\n",
      "investigating BlackwoodCME\n",
      "0.2045793894 3ualified Mon Jan 12 16:13:23 +0000 2015\n",
      "investigating aliciaisgm98\n",
      "-1.0 1 tweets qualified Sun Feb 09 04:26:17 +0000 2020\n",
      "investigating ALLIANCE_org\n",
      "-2.7352773821999996 13ed Sat May 30 16:12:44 +0000 2020\n",
      "investigating CityofLongview692304\n",
      "0.0 000 tweets qualified Thu Jul 02 21:22:41 +0000 2020\n",
      "investigating VTLibraries\n",
      "9.922973678 12 qualified Thu Apr 16 18:30:31 +0000 2020\n",
      "investigating UTMB_RehabSci6667\n",
      "-0.34253375090000004 9ed Fri Jun 05 15:54:32 +0000 2020\n",
      "investigating AssetHealth0565555556\n",
      "7.161177331100001 18ified Sat Mar 19 19:18:11 +0000 2011\n",
      "investigating LysterAHC506111116\n",
      "-0.11348931259999995 14d Fri Jun 06 16:05:42 +0000 2014\n",
      "LysterAHC: -0.008106379471428568\r"
     ]
    }
   ],
   "source": [
    "up_dict = generate_features.investigate_retweets(api, toi_sci, num_retrieve_con,\n",
    "                                           set(ht_polarity.index), \n",
    "                                           start_date, end_date, date_pattern,\n",
    "                                           ht_polarity, sci_path,\n",
    "                                           max_posts = max_posts, \n",
    "                                           max_iter=max_iter)"
   ]
  },
  {
   "cell_type": "code",
   "execution_count": 11,
   "metadata": {
    "scrolled": true
   },
   "outputs": [
    {
     "name": "stdout",
     "output_type": "stream",
     "text": [
      "investigating jhorne24746260\n",
      "0.0 00 tweets qualified Thu Nov 26 19:00:05 +0000 2020\n",
      "investigating whatsoever7276\n",
      "0.0 00 tweets qualified Sat Nov 07 18:45:22 +0000 2020\n",
      "investigating pilskin007\n",
      "0.0 0 tweets qualified Wed Dec 02 01:32:14 +0000 2020\n",
      "investigating haykutuludag\n",
      "41.797295677 1 qualified Sun Jul 12 15:52:17 +0000 2020\n",
      "investigating sunnylogan12\n",
      "0.0 0 tweets qualified Fri Apr 03 15:36:52 +0000 2020\n",
      "investigating karni_Sena_JK\n",
      "0.0 051 tweets qualified Thu Mar 26 20:50:11 +0000 2020 147 tweets qualified Fri Mar 27 15:51:21 +0000 2020\n",
      "investigating EllaHea16113314\n",
      "13.746046828299999 1ified Fri Jul 10 06:11:06 +0000 2020\n",
      "investigating L_Lrong46046828299999\n",
      "0.0 0weets qualified Wed Oct 07 04:45:18 +0000 2020\n",
      "investigating A_Sadhwani123\n",
      "0.0 00 tweets qualified Mon Oct 26 12:58:38 +0000 2020\n",
      "investigating sassylabrie\n",
      "0.0 099 tweets qualified Tue Sep 29 05:04:06 +0000 2020\n",
      "investigating VLovesAnimals\n",
      "0.0 00 tweets qualified Wed Dec 02 13:24:07 +0000 2020\n",
      "investigating BrieRudd\n",
      "0.0 00 tweets qualified Mon Nov 09 03:18:27 +0000 2020\n",
      "investigating FSSter\n",
      "0.0 000 tweets qualified Sat Aug 08 11:13:47 +0000 2020\n",
      "investigating toneunga3\n",
      "0.0 00 tweets qualified Thu Dec 03 02:49:22 +0000 2020\n",
      "investigating JeromeSeraphim\n",
      "39.6483828391 1 qualified Sat Sep 26 19:05:31 +0000 2020\n",
      "investigating random_stroke91\n",
      "2367.1379122378 6alified Sun Sep 13 16:07:55 +0000 2020\n",
      "investigating jamesjpeel53729666\n",
      "0.0 0 tweets qualified Sun Nov 12 08:38:19 +0000 2017\n",
      "investigating IIpgfforsd\n",
      "26.125670408400005 14ied Tue Sep 08 13:36:19 +0000 2020\n",
      "investigating Tatsu11262857147\n",
      "0.0 05 tweets qualified Wed May 20 14:01:58 +0000 2020\n",
      "investigating KqkyeqRZxDmHvdw\n",
      "0.0 00 tweets qualified Sun Oct 25 14:38:22 +0000 2020\n",
      "investigating IsobelLambert8\n",
      "0.6509844496 1 qualified Thu Aug 06 17:38:45 +0000 2020\n",
      "investigating HopeLew06340326\n",
      "-0.8198856595 2qualified Thu Aug 20 00:50:45 +0000 2020\n",
      "investigating LauJ1491195282975\n",
      "204.0763267417 9qualified Tue Sep 01 12:26:49 +0000 2020\n",
      "investigating NualaVargo15744444\n",
      "9.1925596799 3s qualified Mon Sep 21 22:16:28 +0000 2020\n",
      "investigating HafeezRahim_6667\n",
      "-27.9318068702 26alified Sat Aug 22 16:06:11 +0000 2020\n",
      "investigating Evan_Mikoto42384616\n",
      "0.0 0200 tweets qualified Fri Sep 18 16:26:02 +0000 2020\n",
      "investigating TheMamaSavage\n",
      "15.916545385700001 3ified Fri Sep 25 00:56:20 +0000 2020\n",
      "investigating 4580eitherosaka667\n",
      "0.0 000 tweets qualified Thu Apr 23 13:54:44 +0000 2020\n",
      "investigating VeronicaOzvorn\n",
      "0.0 0200 tweets qualified Thu Sep 24 15:42:31 +0000 2020\n",
      "investigating mihirrambhia\n",
      "0.0681931298 1qualified Sat Jul 06 08:22:35 +0000 2013\n",
      "investigating KordekKacper\n",
      "73.2609749424 5qualified Tue Aug 04 02:14:51 +0000 2020\n",
      "investigating bharath9907848\n",
      "-0.36457109239999996 4ied Sat Sep 26 14:43:46 +0000 2020\n",
      "investigating daniel1998010599999\n",
      "11.730362056999999 2fied Sat May 02 12:14:23 +0000 2020\n",
      "investigating CaraMiaNYC0284999994\n",
      "-8.1703543512 12ualified Sat Sep 12 14:51:17 +0000 2020\n",
      "investigating Bert7058626000001\n",
      "0.0 00 tweets qualified Fri Nov 27 20:45:17 +0000 2020\n",
      "investigating Sorna_12\n",
      "-1.0 100 tweets qualified Wed Sep 16 13:36:01 +0000 2020\n",
      "investigating ParadisLost010\n",
      "0.0 00 tweets qualified Sun Oct 04 13:42:56 +0000 2020\n",
      "investigating jokers5268\n",
      "0.0 0200 tweets qualified Thu Sep 17 05:18:45 +0000 2020\n",
      "investigating booth036\n",
      "0.0 000 tweets qualified Wed Aug 05 01:20:19 +0000 2020\n",
      "investigating DeeZozzy\n",
      "0.0 00 tweets qualified Fri Nov 06 13:53:38 +0000 2020\n",
      "investigating donna57259304\n",
      "27.7856109062 3qualified Fri Jun 05 23:46:34 +0000 2020\n",
      "investigating Cecelia29331735667\n",
      "466.9848051444 46alified Wed Jun 10 19:44:46 +0000 2020\n",
      "investigating FalconhunterNRA095652\n",
      "0.0 00 tweets qualified Tue Dec 01 23:26:47 +0000 2020\n",
      "investigating _kakitetsu_love\n",
      "0.0 0200 tweets qualified Mon Sep 28 15:46:57 +0000 2020\n",
      "investigating vanillarose3\n",
      "0.0 00 tweets qualified Tue Oct 06 23:31:59 +0000 2020\n",
      "investigating MaP120f\n",
      "2505.8903496297 26lified Thu May 21 14:43:56 +0000 2020\n",
      "investigating alejandrodjv1\n",
      "88.21467198090001 8ified Fri Jun 07 06:13:20 +0000 2013\n",
      "investigating john996058527612501\n",
      "0.0 0 tweets qualified Sun May 17 05:12:12 +0000 2020\n",
      "investigating DiogoVi31365477\n",
      "-3.0 36 tweets qualified Thu Nov 29 22:06:54 +0000 2018\n",
      "investigating Obi21062573\n",
      "0.0 00 tweets qualified Fri Oct 23 05:54:44 +0000 2020\n",
      "investigating EBSF6\n",
      "0.0 0200 tweets qualified Wed Sep 16 11:20:51 +0000 2020\n",
      "investigating iikimberlyx_\n",
      "0.0 013 tweets qualified Mon May 14 17:53:14 +0000 201213 tweets qualified Mon Jan 20 21:05:55 +0000 2014 Mon Sep 16 19:01:19 +0000 201313 tweets qualified Sun Aug 19 07:27:41 +0000 201213 tweets qualified Tue Jul 31 17:13:45 +0000 201213 tweets qualified Mon Jul 30 23:26:15 +0000 2012\n",
      "investigating kerithg_18\n",
      "0.0 00 tweets qualified Fri Nov 06 13:38:46 +0000 2020\n",
      "investigating slckshngz\n",
      "0.0 00 tweets qualified Sun Nov 08 17:13:54 +0000 2020\n",
      "investigating SietchGuin\n",
      "93.7622060302 10alified Tue May 20 14:23:28 +0000 2014 87 tweets qualified Fri Jun 22 12:18:36 +0000 201887 tweets qualified Thu Feb 08 03:58:09 +0000 2018\n",
      "investigating PAYOKU_Makeinu\n",
      "0.0 000 tweets qualified Thu Aug 13 03:12:31 +0000 2020\n",
      "investigating justicefahal\n",
      "0.0 0tweets qualified Tue Apr 10 08:09:50 +0000 2018\n",
      "investigating Kazegagotoku\n",
      "731.7197679699001 8ified Fri Aug 21 17:31:21 +0000 2020\n",
      "investigating bluedreamusa23751\n",
      "-1.0 100 tweets qualified Thu Aug 13 09:46:30 +0000 2020\n",
      "investigating jedi_roid\n",
      "-1.0 10 tweets qualified Sat Sep 12 13:44:45 +0000 2020\n",
      "investigating SamMukiza3\n",
      "0.0 0 tweets qualified Fri Mar 06 15:28:19 +0000 2020\n",
      "investigating iLuiMedina\n",
      "15.3761590499 4qualified Mon Apr 06 23:35:53 +0000 2020\n",
      "investigating ytoku1962475\n",
      "10.5823404114 1qualified Tue Jun 23 03:29:58 +0000 2020\n",
      "investigating niuyue123456\n",
      "0.0 000 tweets qualified Mon Apr 13 17:58:08 +0000 2020\n",
      "investigating 3kuru3ruku3\n",
      "-0.5902098433999998 4ied Wed Apr 29 16:02:34 +0000 2020\n",
      "investigating SlayzpvpRj084999996\n",
      "11.9690961773 1qualified Fri May 01 21:17:49 +0000 2020\n",
      "investigating daisyduckeydrea\n",
      "0.0 000 tweets qualified Sat Jun 27 00:21:12 +0000 2020\n",
      "investigating awais_king6\n",
      "46.9434344962 11qualified Wed Sep 23 19:22:39 +0000 2020\n",
      "investigating crawfishaka\n",
      "0.0 00 tweets qualified Sun Nov 01 23:27:20 +0000 2020\n",
      "investigating ek3223\n",
      "0.6211370222 1ualified Tue Apr 21 13:21:29 +0000 2015\n",
      "investigating CarlosAltea96\n",
      "0.0 0 tweets qualified Sun Apr 19 10:16:59 +0000 2020\n",
      "investigating Lucyinthetop\n",
      "0.0 00 tweets qualified Wed Oct 07 04:25:21 +0000 2020\n",
      "investigating kaka00144310\n",
      "1943.2774556194 15lified Fri Oct 18 14:44:56 +0000 2019\n",
      "investigating WaterBuffalo662666\n",
      "0.0 00 tweets qualified Wed Nov 11 20:37:34 +0000 2020\n",
      "investigating America1stAgain\n",
      "0.0 00 tweets qualified Thu Nov 26 19:26:38 +0000 2020\n",
      "investigating 8vP540Sw4EMgfWw\n",
      "0.0 0 tweets qualified Mon Mar 04 14:57:48 +0000 2019\n",
      "investigating Pawz2Rescue\n",
      "0.0 00 tweets qualified Sat Oct 31 03:29:03 +0000 2020\n",
      "investigating patsfan7429\n",
      "0.0 00 tweets qualified Fri Nov 13 00:48:37 +0000 2020\n",
      "investigating Trump_Girl_USA\n",
      "0.0 00 tweets qualified Mon Nov 30 07:29:11 +0000 2020\n",
      "investigating 3LindaEvans7\n",
      "-2.8424762705999997 5fied Sun Sep 20 01:41:20 +0000 2020\n",
      "investigating summermystic1199999\n",
      "143.83370186230002 4fied Fri Jul 24 15:31:40 +0000 2020\n",
      "investigating 1899mediolanum5004\n",
      "0.0 000 tweets qualified Tue Jul 21 20:56:56 +0000 2020 Tue Jul 21 21:50:46 +0000 2020\n",
      "1899mediolanum: nan\r"
     ]
    }
   ],
   "source": [
    "up_dict_con = generate_features.investigate_retweets(api, toi_con, num_retrieve_con,\n",
    "                                           set(ht_polarity.index), \n",
    "                                           start_date, end_date, date_pattern,\n",
    "                                           ht_polarity, con_path,\n",
    "                                           max_posts = max_posts, \n",
    "                                           max_iter=max_iter)"
   ]
  },
  {
   "cell_type": "code",
   "execution_count": 29,
   "metadata": {},
   "outputs": [
    {
     "data": {
      "text/plain": [
       "<matplotlib.legend.Legend at 0x7fec9d6fa390>"
      ]
     },
     "execution_count": 29,
     "metadata": {},
     "output_type": "execute_result"
    },
    {
     "data": {
      "image/png": "[encoded data removed]",
      "text/plain": [
       "<Figure size 432x288 with 1 Axes>"
      ]
     },
     "metadata": {
      "needs_background": "light"
     },
     "output_type": "display_data"
    }
   ],
   "source": [
    "pd.Series(up_dict).dropna().hist(density=1, label = 'scientific tweet', alpha=0.7)\n",
    "pd.Series(up_dict_con).dropna().hist(density = 1, label = 'conspiracy tweet', alpha=0.7)\n",
    "\n",
    "plt.legend()"
   ]
  },
  {
   "cell_type": "markdown",
   "metadata": {},
   "source": [
    "# LETS GOOOOOOO"
   ]
  },
  {
   "cell_type": "code",
   "execution_count": null,
   "metadata": {},
   "outputs": [],
   "source": []
  }
 ],
 "metadata": {
  "kernelspec": {
   "display_name": "Python 3",
   "language": "python",
   "name": "python3"
  },
  "language_info": {
   "codemirror_mode": {
    "name": "ipython",
    "version": 3
   },
   "file_extension": ".py",
   "mimetype": "text/x-python",
   "name": "python",
   "nbconvert_exporter": "python",
   "pygments_lexer": "ipython3",
   "version": "3.7.6"
  }
 },
 "nbformat": 4,
 "nbformat_minor": 4
}
