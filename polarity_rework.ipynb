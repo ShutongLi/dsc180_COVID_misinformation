{
 "cells": [
  {
   "cell_type": "code",
   "execution_count": 2,
   "metadata": {},
   "outputs": [
    {
     "ename": "ImportError",
     "evalue": "cannot import name 'generate_features' from 'src.features' (unknown location)",
     "output_type": "error",
     "traceback": [
      "\u001b[0;31m\u001b[0m",
      "\u001b[0;31mImportError\u001b[0mTraceback (most recent call last)",
      "\u001b[0;32m<ipython-input-2-0e85e2c20b24>\u001b[0m in \u001b[0;36m<module>\u001b[0;34m\u001b[0m\n\u001b[1;32m      3\u001b[0m \u001b[0;32mimport\u001b[0m \u001b[0mjson\u001b[0m\u001b[0;34m\u001b[0m\u001b[0;34m\u001b[0m\u001b[0m\n\u001b[1;32m      4\u001b[0m \u001b[0;32mimport\u001b[0m \u001b[0mos\u001b[0m\u001b[0;34m\u001b[0m\u001b[0;34m\u001b[0m\u001b[0m\n\u001b[0;32m----> 5\u001b[0;31m \u001b[0;32mfrom\u001b[0m \u001b[0msrc\u001b[0m\u001b[0;34m.\u001b[0m\u001b[0mfeatures\u001b[0m \u001b[0;32mimport\u001b[0m \u001b[0mgenerate_features\u001b[0m\u001b[0;34m\u001b[0m\u001b[0;34m\u001b[0m\u001b[0m\n\u001b[0m\u001b[1;32m      6\u001b[0m \u001b[0;32mimport\u001b[0m \u001b[0mtweepy\u001b[0m\u001b[0;34m\u001b[0m\u001b[0;34m\u001b[0m\u001b[0m\n\u001b[1;32m      7\u001b[0m \u001b[0;32mimport\u001b[0m \u001b[0mdatetime\u001b[0m\u001b[0;34m\u001b[0m\u001b[0;34m\u001b[0m\u001b[0m\n",
      "\u001b[0;31mImportError\u001b[0m: cannot import name 'generate_features' from 'src.features' (unknown location)"
     ]
    }
   ],
   "source": [
    "import pandas as pd\n",
    "import numpy as np\n",
    "import json\n",
    "import os\n",
    "from src.features import generate_features\n",
    "import tweepy\n",
    "import datetime\n",
    "%load_ext autoreload\n",
    "%autoreload 2\n",
    "import matplotlib.pyplot as plt"
   ]
  },
  {
   "cell_type": "code",
   "execution_count": 10,
   "metadata": {},
   "outputs": [],
   "source": [
    "with open('./config/viz_params.json') as f:\n",
    "    viz_params = json.load(f)\n",
    "# Cfg variables\n",
    "path = viz_params['path']\n",
    "top_k = viz_params['top_k']\n",
    "top_k_fig_path = viz_params['top_k_fig_path']\n",
    "user_hist_path = viz_params['user_hist_path']\n",
    "user_hist_zoom_path = viz_params['user_hist_zoom_path']\n",
    "good_path = viz_params['good_path']\n",
    "bad_path = viz_params['bad_path']\n",
    "good_tags = viz_params['good_tags']\n",
    "bad_tags = viz_params['bad_tags']\n",
    "\n",
    "with open('./config/polarity.json') as f:\n",
    "    polarity_params = json.load(f)  \n",
    "top_k = polarity_params['top_k']\n",
    "api_keys = polarity_params['api_keys']\n",
    "marker_tags = polarity_params['marker_tags']\n",
    "max_posts = polarity_params['max_posts']\n",
    "start_date = polarity_params['start_date']\n",
    "end_date = polarity_params['end_date']\n",
    "date_pattern = polarity_params['twitter_date_pattern']\n",
    "max_iter = polarity_params['max_iter']\n",
    "toi_con = polarity_params['toi_con']\n",
    "num_retrieve_con = polarity_params['num_retrieve_con']\n",
    "toi_sci = polarity_params['toi_sci']\n",
    "con_path = polarity_params['con_path']\n",
    "sci_path = polarity_params['sci_path']\n",
    "\n",
    "with open(api_keys) as f:\n",
    "    keys = json.load(f)\n",
    "consumer_key = keys['consumer_key']\n",
    "consumer_secret = keys['consumer_secret']\n",
    "access_token = keys['access_token']\n",
    "access_token_secret = keys['access_token_secret']    \n",
    "\n",
    "# this needs a place to fit in\n",
    "auth = tweepy.OAuthHandler(consumer_key, consumer_secret)\n",
    "auth.set_access_token(access_token, access_token_secret)\n",
    "api = tweepy.API(auth, wait_on_rate_limit=True)"
   ]
  },
  {
   "cell_type": "code",
   "execution_count": 3,
   "metadata": {},
   "outputs": [
    {
     "data": {
      "text/plain": [
       "['WuhanVirus', 'hoax']"
      ]
     },
     "execution_count": 3,
     "metadata": {},
     "output_type": "execute_result"
    }
   ],
   "source": [
    "marker_tags"
   ]
  },
  {
   "cell_type": "code",
   "execution_count": 4,
   "metadata": {},
   "outputs": [],
   "source": [
    "jsons = [os.path.join(path, name) for name in sorted(os.listdir(path)) if 'dataset' in name]"
   ]
  },
  {
   "cell_type": "markdown",
   "metadata": {},
   "source": [
    "# Hashtag Polarity\n",
    "* b = Baseline ROF (rate of frequency) = num top 200 / num tweets\n",
    "* m = Marker ROF = num top 200 / num subset tweets (ones containing marker tweets)\n",
    "* hashtag polarity = (m-b)/b"
   ]
  },
  {
   "cell_type": "code",
   "execution_count": 5,
   "metadata": {
    "scrolled": true
   },
   "outputs": [
    {
     "name": "stdout",
     "output_type": "stream",
     "text": [
      "polarity mode\n",
      "there are 1051055 tweets and 550 subset tweets\n"
     ]
    }
   ],
   "source": [
    "ht_polarity = generate_features.hashtag_polarity(jsons, top_k, marker_ht = marker_tags)"
   ]
  },
  {
   "cell_type": "code",
   "execution_count": 6,
   "metadata": {},
   "outputs": [
    {
     "data": {
      "text/plain": [
       "COVID19        0.099929\n",
       "coronavirus    0.568466\n",
       "Coronavirus    0.559795\n",
       "Covid19        0.042700\n",
       "covid19       -0.113139\n",
       "dtype: float64"
      ]
     },
     "execution_count": 6,
     "metadata": {},
     "output_type": "execute_result"
    }
   ],
   "source": [
    "ht_polarity.head()"
   ]
  },
  {
   "cell_type": "code",
   "execution_count": 7,
   "metadata": {},
   "outputs": [],
   "source": [
    "ht_polarity.to_json('ht_polarity.json')"
   ]
  },
  {
   "cell_type": "code",
   "execution_count": 8,
   "metadata": {},
   "outputs": [],
   "source": [
    "ht_polarity= pd.read_json('ht_polarity.json', typ='series')"
   ]
  },
  {
   "cell_type": "markdown",
   "metadata": {},
   "source": [
    "# User Polarity"
   ]
  },
  {
   "cell_type": "code",
   "execution_count": 9,
   "metadata": {
    "scrolled": true
   },
   "outputs": [
    {
     "name": "stdout",
     "output_type": "stream",
     "text": [
      "774198 users in total\r"
     ]
    }
   ],
   "source": [
    "users =  generate_features.collect_all_users(jsons)"
   ]
  },
  {
   "cell_type": "code",
   "execution_count": 11,
   "metadata": {},
   "outputs": [],
   "source": [
    "example_user = 'DrMeghanWalls'"
   ]
  },
  {
   "cell_type": "code",
   "execution_count": 12,
   "metadata": {},
   "outputs": [
    {
     "name": "stdout",
     "output_type": "stream",
     "text": [
      "investigating DrMeghanWalls\n",
      "20.458400758799996 11ied Fri Jul 31 12:38:54 +0000 2020\n"
     ]
    }
   ],
   "source": [
    "norm_pol = generate_features.user_polarity(api, example_user,\n",
    "                                           set(ht_polarity.index), \n",
    "                                           start_date, end_date, date_pattern,\n",
    "                                           ht_polarity, \n",
    "                                           max_posts = max_posts, \n",
    "                                           max_iter=max_iter,\n",
    "                                          )"
   ]
  },
  {
   "cell_type": "code",
   "execution_count": 13,
   "metadata": {},
   "outputs": [
    {
     "data": {
      "text/plain": [
       "1.8598546144363632"
      ]
     },
     "execution_count": 13,
     "metadata": {},
     "output_type": "execute_result"
    }
   ],
   "source": [
    "norm_pol"
   ]
  },
  {
   "cell_type": "markdown",
   "metadata": {},
   "source": [
    "# Inquiry on a single tweet"
   ]
  },
  {
   "cell_type": "code",
   "execution_count": 14,
   "metadata": {},
   "outputs": [],
   "source": [
    "retweets = api.retweets(toi_con, num_retrieve_con)"
   ]
  },
  {
   "cell_type": "code",
   "execution_count": 15,
   "metadata": {
    "scrolled": true
   },
   "outputs": [
    {
     "name": "stdout",
     "output_type": "stream",
     "text": [
      "investigating sumidatomohisa\n",
      "0.0 00 tweets qualified Thu Nov 19 14:24:20 +0000 2020\n",
      "sumidatomohisa: nan\r"
     ]
    },
    {
     "name": "stderr",
     "output_type": "stream",
     "text": [
      "/datasets/home/home-03/98/098/hhliou/dsc180_project_structure/src/features/generate_features.py:154: RuntimeWarning: invalid value encountered in double_scalars\n",
      "  u_pol /= num_norm_tweets\n"
     ]
    },
    {
     "name": "stdout",
     "output_type": "stream",
     "text": [
      "investigating CLPServicesLLC\n",
      "0.0999291744 1lified Tue Jun 02 04:35:18 +0000 2020\n",
      "investigating BaumhartCaitlin\n",
      "67.11747756710001 46fied Mon Jun 01 18:59:34 +0000 2020\n",
      "investigating nursevictoria11847828\n",
      "0.0 00 tweets qualified Mon Oct 12 14:15:41 +0000 2020\n",
      "investigating Lil_JRice\n",
      "0.0 00 tweets qualified Tue Nov 24 22:34:10 +0000 2020\n",
      "investigating alllitupforyou\n",
      "0.0 00 tweets qualified Tue Nov 24 16:37:01 +0000 2020\n",
      "investigating AGCEameliorates\n",
      "0.0 0500 tweets qualified Wed Sep 09 15:27:25 +0000 2020\n",
      "investigating BatoolSaati1995\n",
      "0.0 000 tweets qualified Thu Jul 30 00:01:48 +0000 2020\n",
      "investigating DrUN_R\n",
      "0.0 034 tweets qualified Sun Sep 04 10:42:14 +0000 2016\n",
      "investigating therealshawn16\n",
      "131.5171223765 85alified Sun May 03 10:17:12 +0000 2020\n",
      "investigating MALGOHARY1263252941\n",
      "4.6902992087 9 qualified Sun Jul 10 23:11:00 +0000 2011\n",
      "investigating maki_krmr5222222\n",
      "0.0 0500 tweets qualified Sun Sep 13 07:40:01 +0000 2020\n",
      "investigating timwlsn31\n",
      "79.72503774329999 53fied Mon Sep 21 08:42:31 +0000 2020\n",
      "investigating tedwlsn31566036\n",
      "30.075989270500003 46ied Mon Sep 21 09:12:32 +0000 2020\n",
      "investigating Saudi_Pharma_07\n",
      "0.0 00 tweets qualified Sat Oct 10 20:40:43 +0000 2020\n",
      "investigating LefkoRodi\n",
      "-0.9135820973 2 qualified Wed Aug 26 14:56:08 +0000 2020\n",
      "investigating tomwlsn3165\n",
      "92.0564101512 55ualified Mon Sep 21 09:51:31 +0000 2020\n",
      "investigating JohnDoe47564694\n",
      "40.338107140800005 41ied Tue Jun 02 12:20:14 +0000 2020\n",
      "investigating mefromfairyland268294\n",
      "0.0999291744 1qualified Sat Mar 02 10:37:11 +0000 2019\n",
      "investigating heyitsmar_ugh44\n",
      "-1.0 130 tweets qualified Thu Sep 17 00:23:49 +0000 2020\n",
      "investigating 1privatepa\n",
      "0.0 00 tweets qualified Sun Jun 15 03:49:36 +0000 2014\n",
      "investigating Qtz\n",
      "16.4988401527 22qualified Fri Sep 18 01:56:09 +0000 2020\n",
      "investigating pchynY5GOjXl6ai\n",
      "3566.3386483848 54alified Tue Jun 09 18:47:08 +0000 2020\n",
      "investigating awani284330830342222\n",
      "206.34967119 45qualified Sat Apr 11 06:32:24 +0000 2020\n",
      "investigating Glabenysb667\n",
      "0.0 000 tweets qualified Tue Jun 09 13:02:17 +0000 2020\n",
      "investigating ATSTrauma\n",
      "0.6422754097000001 7fied Fri Apr 10 18:27:44 +0000 2020\n",
      "investigating AllenGerm9714287\n",
      "249.9159759147 6qualified Sun Aug 30 11:29:04 +0000 2020\n",
      "investigating FastMDx265245\n",
      "45.073737844099995 21ied Mon Oct 10 19:05:54 +0000 2011\n",
      "investigating diplomics_sa\n",
      "54.13437513029999 30fied Wed Aug 21 12:26:35 +0000 2019\n",
      "investigating khhollings10099999\n",
      "20.0234570717 9 qualified Tue Sep 15 07:16:41 +0000 2020\n",
      "investigating T_bin_A635222222\n",
      "-2.0 200 tweets qualified Thu Aug 27 16:40:51 +0000 2020\n",
      "investigating jaquepersists\n",
      "-1.0 10 tweets qualified Wed Jun 10 04:35:32 +0000 2020\n",
      "investigating KwakuAkyeampong\n",
      "13.7806916883 4 qualified Wed Aug 12 14:05:30 +0000 2020\n",
      "investigating msalmanyousaf8375\n",
      "0.0 0500 tweets qualified Wed Jul 29 18:58:54 +0000 2020\n",
      "investigating MaximoRey16\n",
      "0.0 00 tweets qualified Sun Oct 04 00:10:29 +0000 2020\n",
      "investigating CookCoHealth\n",
      "7.3947589056 74 qualified Fri Aug 21 01:35:02 +0000 2020\n",
      "investigating IllinoisDoctors\n",
      "12.696074811699999 141ed Wed Jun 17 18:02:37 +0000 2020\n",
      "investigating arrapak004308377092198\n",
      "-1.0 100 tweets qualified Mon Apr 06 05:30:52 +0000 2020\n",
      "investigating irfanalibalti\n",
      "0.0 00 tweets qualified Fri Nov 06 03:52:23 +0000 2020\n",
      "investigating RedondoBeachBCT\n",
      "0.2997875232 3 qualified Thu Nov 17 00:11:28 +0000 2016 Dec 05 05:17:37 +0000 2020\n",
      "investigating M_hammad_riaz44\n",
      "7.8064935065 1ualified Mon Jun 23 09:28:01 +0000 2014\n",
      "investigating airtroinc5065\n",
      "-0.6002833024 5qualified Sat Jul 18 02:02:41 +0000 2020\n",
      "investigating ArsMustafa8000001\n",
      "37.8535666087 7 qualified Sat Aug 15 12:18:42 +0000 2020\n",
      "investigating FoothillTransit5\n",
      "-1.4011332096 17ualified Sun May 31 03:14:35 +0000 2020\n",
      "investigating RAHomecare1960056470587\n",
      "19.6967551618 8ualified Tue Jan 21 03:59:13 +0000 2020\n",
      "investigating sageman19575\n",
      "-1.673297269 24qualified Tue Aug 11 19:48:36 +0000 2020\n",
      "investigating sachz_A071954166667\n",
      "17.8143537044 2qualified Thu May 21 01:12:05 +0000 2020\n",
      "investigating RWUEHS2\n",
      "0.1998583488 2qualified Wed Jul 13 13:07:18 +0000 2011\n",
      "investigating RCHealthDept\n",
      "17.9016588231 58ualified Wed Jul 29 19:49:07 +0000 2020\n",
      "investigating NYUDentalAlumni4827\n",
      "1.8029412539999998 11ied Fri Apr 06 21:34:35 +0000 2018\n",
      "investigating jesusandres88036363636\n",
      "135.9467961435 68alified Tue Sep 08 01:57:22 +0000 2020\n",
      "investigating EllioteSF5903455882\n",
      "6.418812096 2s qualified Thu Sep 14 08:29:16 +0000 2017\n",
      "investigating abdullahsalih\n",
      "113.50340128990001 27fied Wed Feb 03 17:08:18 +0000 2010\n",
      "investigating rhs_043363774037045\n",
      "1651.1971931005 16lified Sun Aug 23 02:10:50 +0000 2020\n",
      "investigating ajfactual5278125\n",
      "12.272826822699999 4ified Sat Sep 12 05:04:48 +0000 2020\n",
      "investigating ItalyinBoston9998\n",
      "828.4777972831 105alified Mon Dec 31 18:11:15 +0000 2012\n",
      "investigating ziomara26736029524\n",
      "103.1298612114 6ualified Sat Jun 06 22:57:02 +0000 2020\n",
      "investigating PattyPharmD\n",
      "7.2122396234 8qualified Sun Nov 13 23:31:10 +0000 2016\n",
      "investigating TurkiAltheeb5\n",
      "-16.8573704623 16alified Fri May 15 02:13:02 +0000 2020\n",
      "investigating afounamohsen89375\n",
      "0.5612819370000001 1fied Sun Jun 07 23:55:20 +0000 2020\n",
      "investigating vvpriyanka70000001\n",
      "36.9897698065 24ualified Sat Oct 31 05:45:21 +0000 2009\n",
      "investigating FDAPatientinfo67\n",
      "6.467097554999999 124ied Fri May 15 22:57:56 +0000 2020\n",
      "investigating AHRQNews5401254032257\n",
      "34.1082273808 74qualified Fri Sep 11 15:51:10 +0000 2020\n",
      "investigating raminakhi243247\n",
      "27.038004195 10 qualified Sun Mar 12 14:31:35 +0000 2017\n",
      "investigating NIDCR4195\n",
      "43.7887489962 98qualified Mon May 15 18:26:32 +0000 2017\n",
      "investigating ButtockPennock\n",
      "0.0 00 tweets qualified Fri Nov 06 16:15:57 +0000 2020\n",
      "investigating MichellejJust\n",
      "5.8074070891 21qualified Mon Apr 06 23:18:55 +0000 2020\n",
      "investigating CedarsSinai47190476\n",
      "14.562993576300002 69ied Tue Jul 07 00:00:00 +0000 2020\n",
      "investigating ss_marijo791739133\n",
      "6.5035358759 20qualified Mon Mar 24 23:46:40 +0000 2014\n",
      "investigating cvdiaz23795\n",
      "-1.1131385322 2ualified Sun Oct 26 20:08:23 +0000 2014\n",
      "investigating sueLandB\n",
      "-10.1788011028 32ualified Mon Aug 31 17:03:32 +0000 2020\n",
      "investigating NortheastHealth\n",
      "4.6967279431 9s qualified Tue Jun 16 15:48:53 +0000 2009\n",
      "investigating merrenelias6603444444\n",
      "-7.9000708256 9qualified Wed Jun 03 00:33:00 +0000 2020\n",
      "investigating 446AW785647288889\n",
      "-0.9000708256 1qualified Wed Apr 21 22:39:45 +0000 2010\n",
      "investigating AmgenBiosim\n",
      "1.498937616 15 qualified Tue Apr 07 14:00:07 +0000 201581 tweets qualified Thu Apr 25 18:00:01 +0000 2019Sat May 14 00:30:37 +0000 2016\n",
      "investigating v_macclinchy\n",
      "0.08641790270000001 1fied Tue Sep 22 18:15:20 +0000 2020ed Sep 30 00:25:32 +0000 2020\n",
      "investigating lesueurmn0270000001\n",
      "0.1998583488 2s qualified Thu Jul 16 15:56:06 +0000 2015\n",
      "investigating babi_ny44\n",
      "0.6683948645000001 1fied Tue Sep 15 04:42:10 +0000 2009\n",
      "investigating BlackwoodCME1\n",
      "0.2997875232 3ualified Mon Jan 12 16:13:23 +0000 2015\n",
      "investigating aliciaisgm44\n",
      "-1.0 1 tweets qualified Sun Feb 09 04:26:17 +0000 2020\n",
      "investigating ALLIANCE_org\n",
      "11.6243355907 39qualified Tue Jun 14 17:03:43 +0000 2011\n",
      "investigating CityofLongview02564\n",
      "1.4273401614 15 qualified Thu Apr 14 18:35:06 +0000 2016493 tweets qualified Tue Jun 19 17:49:22 +0000 2018 493 tweets qualified Fri Dec 23 20:00:24 +0000 2016\n",
      "investigating VTLibraries1076\n",
      "11.5513308829 27qualified Thu Aug 23 13:21:28 +0000 2012\n",
      "investigating UTMB_RehabSci03705\n",
      "33.691479986000004 25fied Wed Sep 27 21:29:11 +0000 2017\n",
      "investigating AssetHealth94400002\n",
      "7.124560050400001 18ified Sat Mar 19 19:18:11 +0000 2011\n",
      "investigating LysterAHC168888894\n",
      "0.2990792672 14qualified Fri Jun 06 16:05:42 +0000 2014\n",
      "LysterAHC: 0.0213628048\r"
     ]
    }
   ],
   "source": [
    "up_dict = generate_features.investigate_retweets(api, toi_sci, num_retrieve_con,\n",
    "                                           set(ht_polarity.index), \n",
    "                                           start_date, end_date, date_pattern,\n",
    "                                           ht_polarity, sci_path,\n",
    "                                           max_posts = max_posts, \n",
    "                                           max_iter=max_iter)"
   ]
  },
  {
   "cell_type": "code",
   "execution_count": 16,
   "metadata": {
    "scrolled": true
   },
   "outputs": [
    {
     "name": "stdout",
     "output_type": "stream",
     "text": [
      "investigating jhorne24746260\n",
      "0.0 00 tweets qualified Thu Nov 26 20:23:49 +0000 2020\n",
      "investigating whatsoever7276\n",
      "0.0 00 tweets qualified Sat Nov 07 18:45:22 +0000 2020\n",
      "investigating pilskin007\n",
      "0.0 0 tweets qualified Wed Dec 02 01:32:14 +0000 2020\n",
      "investigating haykutuludag\n",
      "38.1428111965 2qualified Tue May 26 14:05:13 +0000 2020\n",
      "investigating sunnylogan1225\n",
      "0.0 0 tweets qualified Fri Apr 03 15:36:52 +0000 2020\n",
      "investigating karni_Sena_JK\n",
      "0.0 051 tweets qualified Thu Mar 26 20:50:11 +0000 2020\n",
      "investigating EllaHea16113314\n",
      "13.657932622999999 1ified Fri Jul 10 06:11:06 +0000 2020\n",
      "investigating L_Lrong57932622999999\n",
      "0.0 0weets qualified Wed Oct 07 04:45:18 +0000 2020\n",
      "investigating A_Sadhwani123\n",
      "0.0 00 tweets qualified Thu Oct 29 14:05:20 +0000 2020\n",
      "investigating sassylabrie\n",
      "0.0 0104 tweets qualified Tue Sep 29 04:57:38 +0000 2020\n",
      "investigating VLovesAnimals\n",
      "0.0 00 tweets qualified Thu Dec 03 03:09:14 +0000 2020\n",
      "investigating TriggaCityNole\n",
      "20.4720122574 1 qualified Wed Sep 16 12:14:36 +0000 2020\n",
      "investigating BrieRudd0122574\n",
      "0.0 00 tweets qualified Mon Nov 09 03:18:27 +0000 2020\n",
      "investigating FSSter\n",
      "0.0 000 tweets qualified Tue Apr 28 04:38:46 +0000 2020\n",
      "investigating toneunga3\n",
      "0.0 00 tweets qualified Thu Dec 03 09:01:55 +0000 2020\n",
      "investigating JeromeSeraphim\n",
      "42.8723918299 2 qualified Mon Sep 21 22:21:19 +0000 2020\n",
      "investigating random_stroke495\n",
      "2619.6129302716 18lified Tue Sep 01 13:50:30 +0000 2020\n",
      "investigating jamesjpeel168175556\n",
      "0.0 0 tweets qualified Sun Nov 12 08:38:19 +0000 2017\n",
      "investigating IIpgfforsd\n",
      "30.5517993386 39ualified Tue Aug 18 08:36:52 +0000 2020\n",
      "investigating Tatsu11262205128\n",
      "0.0 05 tweets qualified Wed May 20 14:01:58 +0000 2020\n",
      "investigating KqkyeqRZxDmHvdw\n",
      "0.0 00 tweets qualified Sun Oct 25 14:38:22 +0000 2020\n",
      "investigating IsobelLambert8\n",
      "-0.3316051354999999 3ied Wed Jul 22 06:59:00 +0000 2020\n",
      "investigating HopeLew063403266666664\n",
      "42.162097734 4 qualified Tue Aug 04 07:06:25 +0000 2020\n",
      "investigating LauJ149119524335\n",
      "397.41386115529997 21fied Tue Aug 11 09:05:09 +0000 2020\n",
      "investigating NualaVargo78823807\n",
      "13.6494674929 7 qualified Tue Sep 08 23:50:24 +0000 2020\n",
      "investigating HafeezRahim_1427\n",
      "-44.8157606332 51alified Thu Jul 09 14:22:16 +0000 2020\n",
      "investigating Evan_Mikoto4572549\n",
      "0.0 0500 tweets qualified Sat Aug 22 06:55:06 +0000 2020weets qualified Wed Dec 02 14:17:24 +0000 2020\n",
      "investigating TheMamaSavage\n",
      "33.8645668077 6 qualified Thu Sep 10 20:12:38 +0000 2020\n",
      "investigating 4580eitherosaka0005\n",
      "0.0999291744 1s qualified Fri Dec 02 07:22:20 +0000 2016\n",
      "investigating VeronicaOzvorn4\n",
      "19.4720122574 2 qualified Sun Sep 13 19:57:24 +0000 2020\n",
      "investigating mihirrambhia87\n",
      "0.0999291744 1qualified Sat Jul 06 08:22:35 +0000 2013\n",
      "investigating KordekKacper\n",
      "126.06303194409999 10ied Mon Jun 15 17:23:40 +0000 2020\n",
      "investigating bharath9907441\n",
      "-0.8217682052999999 9fied Thu Sep 24 18:01:20 +0000 2020\n",
      "investigating daniel1998010566666\n",
      "-0.43153430989999997 1ed Sat Nov 10 06:23:39 +0000 2018\n",
      "investigating CaraMiaNYC430989999997\n",
      "8.2133137529 17 qualified Thu Aug 27 14:32:51 +0000 2020\n",
      "investigating Bert705831117647\n",
      "0.0 00 tweets qualified Sat Nov 28 01:39:06 +0000 2020\n",
      "investigating Sorna_12\n",
      "-5.0 500 tweets qualified Wed Sep 02 18:45:10 +0000 2020\n",
      "investigating ParadisLost010\n",
      "0.0 00 tweets qualified Sun Oct 04 13:42:56 +0000 2020\n",
      "investigating jokers5268\n",
      "0.0 0500 tweets qualified Sun Aug 23 07:43:58 +0000 2020\n",
      "investigating booth036\n",
      "0.0 000 tweets qualified Mon Jun 01 23:35:40 +0000 2020\n",
      "investigating DeeZozzy\n",
      "0.0 00 tweets qualified Fri Nov 06 13:53:38 +0000 2020 0 tweets qualified Fri Nov 06 14:57:23 +0000 2020\n",
      "investigating donna57259304\n",
      "28.2297324527 4qualified Wed Jun 03 17:08:11 +0000 2020\n",
      "investigating Cecelia29331735\n",
      "1196.4378795271 105ified Fri May 15 18:05:08 +0000 2020\n",
      "investigating FalconhunterNRA686666\n",
      "0.0 00 tweets qualified Wed Dec 02 04:01:55 +0000 2020\n",
      "investigating _kakitetsu_love\n",
      "0.0 0500 tweets qualified Thu Sep 24 13:17:50 +0000 2020\n",
      "investigating vanillarose3\n",
      "0.0 00 tweets qualified Tue Oct 06 23:31:59 +0000 2020\n",
      "investigating MaP120f\n",
      "3632.5376375194 44lified Sat Jan 17 08:11:22 +0000 2015\n",
      "investigating alejandrodjv1\n",
      "82.7445372629 8qualified Fri Jun 07 06:13:20 +0000 2013\n",
      "investigating john9960585278625\n",
      "0.0 0 tweets qualified Sun May 17 05:12:12 +0000 20205 tweets qualified Mon Aug 10 01:39:48 +0000 2020\n",
      "investigating DiogoVi31365477\n",
      "-3.0 36 tweets qualified Thu Nov 29 22:06:54 +0000 2018\n",
      "investigating Obi21062573\n",
      "0.0 00 tweets qualified Sat Oct 24 06:31:47 +0000 2020\n",
      "investigating EBSF6\n",
      "0.0 0500 tweets qualified Fri Aug 28 20:12:27 +0000 2020\n",
      "investigating iikimberlyx_\n",
      "0.0 013 tweets qualified Mon May 14 17:53:14 +0000 2012 13 tweets qualified Wed Aug 29 14:52:27 +0000 2012 Mon Aug 13 23:57:06 +0000 2012Fri Aug 03 23:24:06 +0000 201213 tweets qualified Thu Aug 02 15:04:51 +0000 2012Fri Jul 27 22:05:14 +0000 2012 13 tweets qualified Fri Jun 01 17:18:20 +0000 2012\n",
      "investigating kerithg_18\n",
      "0.0 00 tweets qualified Fri Nov 06 13:38:46 +0000 2020\n",
      "investigating slckshngz\n",
      "0.0 00 tweets qualified Sun Nov 08 17:32:48 +0000 2020\n",
      "investigating SietchGuin\n",
      "92.5247201098 10alified Tue May 20 14:23:28 +0000 2014\n",
      "investigating PAYOKU_Makeinu\n",
      "13.1890756927 2qualified Sat May 09 00:19:39 +0000 2020\n",
      "investigating justicefahal635\n",
      "0.0 0tweets qualified Tue Apr 10 08:09:50 +0000 2018\n",
      "investigating Kazegagotoku\n",
      "1750.2190627611 27lified Sun Jun 07 06:32:58 +0000 2020\n",
      "investigating bluedreamusa41111\n",
      "-2.9135820973 4 qualified Thu Apr 30 04:32:47 +0000 2020\n",
      "investigating jedi_roid524325\n",
      "-3.6002833024 5qualified Sat Aug 08 14:29:35 +0000 2020\n",
      "investigating SamMukiza3799999\n",
      "0.0 0 tweets qualified Fri Mar 06 15:28:19 +0000 2020\n",
      "investigating iLuiMedina\n",
      "15.8705561976 6 qualified Fri Nov 01 17:44:45 +0000 2013\n",
      "investigating ytoku19995999997\n",
      "9.0000618429 3 qualified Wed Apr 22 17:15:52 +0000 2020\n",
      "investigating niuyue123456\n",
      "-0.9000708256 1qualified Fri Dec 20 23:55:45 +0000 2019\n",
      "investigating 3kuru3ruku356\n",
      "436.6467047333 9ualified Wed Apr 22 19:05:25 +0000 2020\n",
      "investigating SlayzpvpRj592222\n",
      "11.890449179800001 1ified Sat Apr 06 10:31:42 +0000 2019\n",
      "investigating daisyduckeydrea1\n",
      "-1.0 10 tweets qualified Fri Apr 24 11:55:23 +0000 2020\n",
      "investigating awais_king6\n",
      "106.54434128870001 17fied Sun Sep 13 11:10:10 +0000 2020\n",
      "investigating crawfishaka529415\n",
      "0.0 00 tweets qualified Sun Nov 01 23:27:20 +0000 2020\n",
      "investigating ek3223\n",
      "0.5612819370000001 1ed Tue Apr 21 13:21:29 +0000 2015\n",
      "investigating CarlosAltea96\n",
      "0.0 0 tweets qualified Sun Apr 19 10:16:59 +0000 2020\n",
      "investigating Lucyinthetop\n",
      "0.0 00 tweets qualified Wed Oct 07 04:25:21 +0000 2020\n",
      "investigating kaka00144310\n",
      "1866.3838612486998 15ied Fri Oct 18 14:44:56 +0000 2019\n",
      "investigating WaterBuffalo691331\n",
      "0.0 00 tweets qualified Wed Nov 11 20:37:34 +0000 2020\n",
      "investigating America1stAgain\n",
      "0.0 00 tweets qualified Fri Nov 27 10:24:27 +0000 2020\n",
      "investigating 8vP540Sw4EMgfWw\n",
      "0.0 0 tweets qualified Mon Mar 04 14:57:48 +0000 2019\n",
      "investigating Pawz2Rescue\n",
      "0.0 00 tweets qualified Sat Oct 31 03:29:03 +0000 2020\n",
      "investigating patsfan7429\n",
      "0.0 00 tweets qualified Fri Nov 13 18:33:45 +0000 2020\n",
      "investigating Trump_Girl_USA\n",
      "0.0 00 tweets qualified Tue Dec 01 01:05:17 +0000 2020\n",
      "investigating 3LindaEvans7\n",
      "52.7340763615 13qualified Fri Sep 04 22:23:36 +0000 2020\n",
      "investigating summermystic23077\n",
      "572.1185344442 7ualified Tue May 04 08:47:15 +0000 2010\n",
      "investigating 1899mediolanum43\n",
      "161.4070453223 5ualified Sun Apr 12 10:40:31 +0000 2020\n",
      "1899mediolanum: 32.28140906446\r"
     ]
    }
   ],
   "source": [
    "up_dict_con = generate_features.investigate_retweets(api, toi_con, num_retrieve_con,\n",
    "                                           set(ht_polarity.index), \n",
    "                                           start_date, end_date, date_pattern,\n",
    "                                           ht_polarity, con_path,\n",
    "                                           max_posts = max_posts, \n",
    "                                           max_iter=max_iter)"
   ]
  },
  {
   "cell_type": "code",
   "execution_count": 1,
   "metadata": {},
   "outputs": [
    {
     "ename": "NameError",
     "evalue": "name 'pd' is not defined",
     "output_type": "error",
     "traceback": [
      "\u001b[0;31m\u001b[0m",
      "\u001b[0;31mNameError\u001b[0mTraceback (most recent call last)",
      "\u001b[0;32m<ipython-input-1-d5e55d568ba5>\u001b[0m in \u001b[0;36m<module>\u001b[0;34m\u001b[0m\n\u001b[0;32m----> 1\u001b[0;31m \u001b[0mpd\u001b[0m\u001b[0;34m.\u001b[0m\u001b[0mSeries\u001b[0m\u001b[0;34m(\u001b[0m\u001b[0mup_dict\u001b[0m\u001b[0;34m)\u001b[0m\u001b[0;34m.\u001b[0m\u001b[0mdropna\u001b[0m\u001b[0;34m(\u001b[0m\u001b[0;34m)\u001b[0m\u001b[0;34m.\u001b[0m\u001b[0mhist\u001b[0m\u001b[0;34m(\u001b[0m\u001b[0mdensity\u001b[0m\u001b[0;34m=\u001b[0m\u001b[0;36m1\u001b[0m\u001b[0;34m,\u001b[0m \u001b[0mlabel\u001b[0m \u001b[0;34m=\u001b[0m \u001b[0;34m'scientific tweet'\u001b[0m\u001b[0;34m,\u001b[0m \u001b[0malpha\u001b[0m\u001b[0;34m=\u001b[0m\u001b[0;36m0.7\u001b[0m\u001b[0;34m)\u001b[0m\u001b[0;34m\u001b[0m\u001b[0;34m\u001b[0m\u001b[0m\n\u001b[0m\u001b[1;32m      2\u001b[0m \u001b[0max\u001b[0m \u001b[0;34m=\u001b[0m \u001b[0mpd\u001b[0m\u001b[0;34m.\u001b[0m\u001b[0mSeries\u001b[0m\u001b[0;34m(\u001b[0m\u001b[0mup_dict_con\u001b[0m\u001b[0;34m)\u001b[0m\u001b[0;34m.\u001b[0m\u001b[0mdropna\u001b[0m\u001b[0;34m(\u001b[0m\u001b[0;34m)\u001b[0m\u001b[0;34m.\u001b[0m\u001b[0mhist\u001b[0m\u001b[0;34m(\u001b[0m\u001b[0mdensity\u001b[0m \u001b[0;34m=\u001b[0m \u001b[0;36m1\u001b[0m\u001b[0;34m,\u001b[0m \u001b[0mlabel\u001b[0m \u001b[0;34m=\u001b[0m \u001b[0;34m'conspiracy tweet'\u001b[0m\u001b[0;34m,\u001b[0m \u001b[0malpha\u001b[0m\u001b[0;34m=\u001b[0m\u001b[0;36m0.7\u001b[0m\u001b[0;34m)\u001b[0m\u001b[0;34m\u001b[0m\u001b[0;34m\u001b[0m\u001b[0m\n\u001b[1;32m      3\u001b[0m \u001b[0max\u001b[0m\u001b[0;34m\u001b[0m\u001b[0;34m\u001b[0m\u001b[0m\n\u001b[1;32m      4\u001b[0m \u001b[0;31m#plt.legend()\u001b[0m\u001b[0;34m\u001b[0m\u001b[0;34m\u001b[0m\u001b[0;34m\u001b[0m\u001b[0m\n",
      "\u001b[0;31mNameError\u001b[0m: name 'pd' is not defined"
     ]
    }
   ],
   "source": [
    "pd.Series(up_dict).dropna().hist(density=1, label = 'scientific tweet', alpha=0.7)\n",
    "ax = pd.Series(up_dict_con).dropna().hist(density = 1, label = 'conspiracy tweet', alpha=0.7)\n",
    "ax\n",
    "#plt.legend()"
   ]
  },
  {
   "cell_type": "markdown",
   "metadata": {},
   "source": [
    "# LETS GOOOOOOO"
   ]
  },
  {
   "cell_type": "code",
   "execution_count": null,
   "metadata": {},
   "outputs": [],
   "source": []
  }
 ],
 "metadata": {
  "kernelspec": {
   "display_name": "Python 3",
   "language": "python",
   "name": "python3"
  },
  "language_info": {
   "codemirror_mode": {
    "name": "ipython",
    "version": 3
   },
   "file_extension": ".py",
   "mimetype": "text/x-python",
   "name": "python",
   "nbconvert_exporter": "python",
   "pygments_lexer": "ipython3",
   "version": "3.7.6"
  }
 },
 "nbformat": 4,
 "nbformat_minor": 4
}
